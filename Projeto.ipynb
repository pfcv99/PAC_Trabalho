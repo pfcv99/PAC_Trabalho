{
 "cells": [
  {
   "cell_type": "markdown",
   "metadata": {},
   "source": [
    "# Projeto de Programação e Algoritmos em Ciência"
   ]
  },
  {
   "cell_type": "markdown",
   "metadata": {},
   "source": [
    "## Tendências globais em matéria de saúde mental."
   ]
  },
  {
   "cell_type": "markdown",
   "metadata": {},
   "source": [
    "### 1. Introdução "
   ]
  },
  {
   "cell_type": "markdown",
   "metadata": {},
   "source": [
    "Este conjunto de dados contém informações de países do mundo sobre a prevalência de distúrbios de saúde mental, incluindo a esquizofrenia, o transtorno bipolar, distúrbios alimentares, transtornos de ansiedade, transtornos por uso de drogas, depressão e transtornos por uso de álcool. Estes dados poderão ser úteis na medida em que poderá ser possível obter insights sobre como essas questões estão a impactar as vidas das pessoas. Há, portanto, algumas questões que se levantam, tais como:\n",
    "\n",
    "1. Quais são os tipos de distúrbios de saúde mental que as pessoas pelo mundo têm vindo a enfrentar?\n",
    "2. Quantas pessoas em cada país sofrem de problemas de saúde mental?\n",
    "3. Serão os homens ou mulheres quem têm maior probabilidade de ter depressão?\n",
    "4. A depressão está relacionada com o suicídio?\n",
    "\n",
    "Ao explorar padrões entre as taxas de prevalência por meio de visualização de dados, é, portanto, possível compreender melhor essas questões complexas."
   ]
  },
  {
   "cell_type": "markdown",
   "metadata": {},
   "source": [
    "### 2. Métodos "
   ]
  },
  {
   "cell_type": "markdown",
   "metadata": {},
   "source": [
    "Neste trabalho optou-se por se subdividir o problema em quatro partes:\n",
    "\n",
    "1. Obtenção dos dados\n",
    "2. Tratamento dos dados\n",
    "3. Análise Exploratória \n",
    "4. Configuração do menu e função principal\n",
    "\n",
    "Cada parte encontra-se documentada com comentários nos quais são detalhados todos os passos efetuados. "
   ]
  },
  {
   "cell_type": "markdown",
   "metadata": {},
   "source": [
    "#### 2.1. Obtenção dos dados"
   ]
  },
  {
   "cell_type": "markdown",
   "metadata": {},
   "source": [
    "O [dataset](https://www.kaggle.com/datasets/thedevastator/uncover-global-trends-in-mental-health-disorder) usado foi obtido através do website [Kaggle](https://www.kaggle.com/), um dos maiores repositórios de modelos, dados e código publicados pela comunidade."
   ]
  },
  {
   "cell_type": "markdown",
   "metadata": {},
   "source": [
    "#### 2.2. Tratamento dos dados"
   ]
  },
  {
   "cell_type": "markdown",
   "metadata": {},
   "source": [
    "Nesta parte fez-se um conjunto de operações para tornar o dataset 'usable'. Se virmos este dataset como uma tabela, então a tabela principal era composta por sub-tabelas que se encontravam acopladas e sem uma estrutura coesa e organizada. Foi, portanto, necessário efetuar operações que limpeza, reorganização e criação de novos dataframes."
   ]
  },
  {
   "cell_type": "markdown",
   "metadata": {},
   "source": [
    "##### Módulos Usados"
   ]
  },
  {
   "cell_type": "code",
   "execution_count": 196,
   "metadata": {},
   "outputs": [],
   "source": [
    "import os\n",
    "import pandas as pd\n",
    "import plotly.express as px\n",
    "import matplotlib.pyplot as plt\n",
    "import seaborn as sns\n",
    "import plotly.subplots as sp\n",
    "import plotly.graph_objects as go\n",
    "from ipywidgets import widgets\n",
    "from art import *\n",
    "from tabulate import tabulate\n",
    "from functools import partial"
   ]
  },
  {
   "cell_type": "markdown",
   "metadata": {},
   "source": [
    "##### 2.2.1. Upload dos dados em bruto"
   ]
  },
  {
   "cell_type": "code",
   "execution_count": 197,
   "metadata": {},
   "outputs": [
    {
     "name": "stderr",
     "output_type": "stream",
     "text": [
      "/var/folders/km/dt_l1qsx1kvdth2cmx91yspm0000gn/T/ipykernel_31297/2873267272.py:2: DtypeWarning: Columns (5,6) have mixed types. Specify dtype option on import or set low_memory=False.\n",
      "  dataset = pd.read_csv('data/raw_data/Mental_health_Depression_disorder_Data.csv')\n"
     ]
    }
   ],
   "source": [
    "#Carregar o conjunto de dados principal a partir do arquivo CSV especificado ('Mental_health_Depression_disorder_Data.csv')\n",
    "dataset = pd.read_csv('data/raw_data/Mental_health_Depression_disorder_Data.csv')\n",
    "\n",
    "# Carregar outro conjunto de dados contendo códigos de país ISO a partir do arquivo CSV especificado ('iso_countries.csv')\n",
    "iso_countries = pd.read_csv('data/raw_data/iso_countries.csv')"
   ]
  },
  {
   "cell_type": "markdown",
   "metadata": {},
   "source": [
    "##### 2.2.2. Criação dos dataframes"
   ]
  },
  {
   "cell_type": "code",
   "execution_count": 198,
   "metadata": {},
   "outputs": [],
   "source": [
    "# Criar um novo DataFrame do pandas chamado 'df_geral' e preenchê-lo com os dados do conjunto de dados principal\n",
    "df_geral = pd.DataFrame(dataset)\n",
    "\n",
    "# Criar um novo DataFrame do pandas chamado 'df_iso' e preenchê-lo com os dados do conjunto de dados de códigos de país ISO\n",
    "df_iso = pd.DataFrame(iso_countries)"
   ]
  },
  {
   "cell_type": "markdown",
   "metadata": {},
   "source": [
    "##### 2.2.3. Identificação das sub-tabelas"
   ]
  },
  {
   "cell_type": "code",
   "execution_count": 199,
   "metadata": {},
   "outputs": [
    {
     "data": {
      "text/html": [
       "<div>\n",
       "<style scoped>\n",
       "    .dataframe tbody tr th:only-of-type {\n",
       "        vertical-align: middle;\n",
       "    }\n",
       "\n",
       "    .dataframe tbody tr th {\n",
       "        vertical-align: top;\n",
       "    }\n",
       "\n",
       "    .dataframe thead th {\n",
       "        text-align: right;\n",
       "    }\n",
       "</style>\n",
       "<table border=\"1\" class=\"dataframe\">\n",
       "  <thead>\n",
       "    <tr style=\"text-align: right;\">\n",
       "      <th></th>\n",
       "      <th>index</th>\n",
       "      <th>Entity</th>\n",
       "      <th>Code</th>\n",
       "      <th>Year</th>\n",
       "      <th>Schizophrenia (%)</th>\n",
       "      <th>Bipolar disorder (%)</th>\n",
       "      <th>Eating disorders (%)</th>\n",
       "      <th>Anxiety disorders (%)</th>\n",
       "      <th>Drug use disorders (%)</th>\n",
       "      <th>Depression (%)</th>\n",
       "      <th>Alcohol use disorders (%)</th>\n",
       "    </tr>\n",
       "  </thead>\n",
       "  <tbody>\n",
       "    <tr>\n",
       "      <th>6468</th>\n",
       "      <td>6468</td>\n",
       "      <td>Entity</td>\n",
       "      <td>Code</td>\n",
       "      <td>Year</td>\n",
       "      <td>Prevalence in males (%)</td>\n",
       "      <td>Prevalence in females (%)</td>\n",
       "      <td>Population</td>\n",
       "      <td>NaN</td>\n",
       "      <td>NaN</td>\n",
       "      <td>NaN</td>\n",
       "      <td>NaN</td>\n",
       "    </tr>\n",
       "    <tr>\n",
       "      <th>54276</th>\n",
       "      <td>54276</td>\n",
       "      <td>Entity</td>\n",
       "      <td>Code</td>\n",
       "      <td>Year</td>\n",
       "      <td>Suicide rate (deaths per 100,000 individuals)</td>\n",
       "      <td>Depressive disorder rates (number suffering pe...</td>\n",
       "      <td>Population</td>\n",
       "      <td>NaN</td>\n",
       "      <td>NaN</td>\n",
       "      <td>NaN</td>\n",
       "      <td>NaN</td>\n",
       "    </tr>\n",
       "    <tr>\n",
       "      <th>102084</th>\n",
       "      <td>102084</td>\n",
       "      <td>Entity</td>\n",
       "      <td>Code</td>\n",
       "      <td>Year</td>\n",
       "      <td>Prevalence - Depressive disorders - Sex: Both ...</td>\n",
       "      <td>NaN</td>\n",
       "      <td>NaN</td>\n",
       "      <td>NaN</td>\n",
       "      <td>NaN</td>\n",
       "      <td>NaN</td>\n",
       "      <td>NaN</td>\n",
       "    </tr>\n",
       "  </tbody>\n",
       "</table>\n",
       "</div>"
      ],
      "text/plain": [
       "         index  Entity  Code  Year  \\\n",
       "6468      6468  Entity  Code  Year   \n",
       "54276    54276  Entity  Code  Year   \n",
       "102084  102084  Entity  Code  Year   \n",
       "\n",
       "                                        Schizophrenia (%)  \\\n",
       "6468                              Prevalence in males (%)   \n",
       "54276       Suicide rate (deaths per 100,000 individuals)   \n",
       "102084  Prevalence - Depressive disorders - Sex: Both ...   \n",
       "\n",
       "                                     Bipolar disorder (%)  \\\n",
       "6468                            Prevalence in females (%)   \n",
       "54276   Depressive disorder rates (number suffering pe...   \n",
       "102084                                                NaN   \n",
       "\n",
       "       Eating disorders (%)  Anxiety disorders (%)  Drug use disorders (%)  \\\n",
       "6468             Population                    NaN                     NaN   \n",
       "54276            Population                    NaN                     NaN   \n",
       "102084                  NaN                    NaN                     NaN   \n",
       "\n",
       "        Depression (%)  Alcohol use disorders (%)  \n",
       "6468               NaN                        NaN  \n",
       "54276              NaN                        NaN  \n",
       "102084             NaN                        NaN  "
      ]
     },
     "execution_count": 199,
     "metadata": {},
     "output_type": "execute_result"
    }
   ],
   "source": [
    "# Criar uma visualização de subconjunto (subtable_view) do DataFrame df_geral, selecionando apenas as linhas em que a coluna 'Year' é igual à string 'Year' para identificar os cabeçalhos de coluna\n",
    "subtable_view = df_geral[df_geral['Year'] == 'Year']\n",
    "\n",
    "# Exibir as primeiras linhas da visualização de subconjunto usando o método head(), que por padrão mostra as primeiras 5 linhas\n",
    "subtable_view.head()\n"
   ]
  },
  {
   "cell_type": "markdown",
   "metadata": {},
   "source": [
    "##### 2.2.4. Identificação dos índices para separação das tabelas"
   ]
  },
  {
   "cell_type": "code",
   "execution_count": 200,
   "metadata": {},
   "outputs": [
    {
     "name": "stdout",
     "output_type": "stream",
     "text": [
      "[0, 6468, 54276, 102084, 108552]\n"
     ]
    }
   ],
   "source": [
    "# Criar uma lista (index_lst) contendo os valores da coluna 'index' da visualização de subconjunto (subtable_view)\n",
    "index_lst = subtable_view['index'].tolist()\n",
    "\n",
    "# Inserir o valor 0 no início da lista\n",
    "index_lst.insert(0, 0)\n",
    "\n",
    "# Adicionar o último valor da coluna 'index' do DataFrame original (df_geral) ao final da lista\n",
    "index_lst.append(df_geral['index'].iloc[-1])\n",
    "\n",
    "# Imprimir a lista resultante\n",
    "print(index_lst)\n"
   ]
  },
  {
   "cell_type": "markdown",
   "metadata": {},
   "source": [
    "##### 2.2.5. Operações de limpeza do dataframe principal, criação de novos dataframes a partir das sub-tabelas e armazenamento dos dataframes limpos em ficheiros CSV"
   ]
  },
  {
   "cell_type": "code",
   "execution_count": 201,
   "metadata": {},
   "outputs": [],
   "source": [
    "# Criar um dicionário vazio para armazenar os DataFrames resultantes\n",
    "dfs = {}\n",
    "\n",
    "# Iterar sobre os elementos da lista de índices\n",
    "for i in range(len(index_lst) - 1):\n",
    "    # Definir o início e o final do intervalo com base nos valores da lista de índices\n",
    "    start = index_lst[i]\n",
    "    end = index_lst[i + 1] - 1  # Subtrai 1 para obter o intervalo correto\n",
    "\n",
    "    # Criar um novo DataFrame (dfs[f'df_{i}']) com base no intervalo definido\n",
    "    dfs[f'df_{i}'] = df_geral.iloc[start:end + 1].copy()\n",
    "\n",
    "    # Fazer reset dos índices e remover as colunas que são compostas apenas por valores nulos (NaN)\n",
    "    dfs[f'df_{i}'].reset_index(drop=True, inplace=True)\n",
    "    dfs[f'df_{i}'] = dfs[f'df_{i}'].dropna(axis=1, how='all')\n",
    "    \n",
    "    # Substituir 'NaN' na coluna 'Code' pelo valor correspondente na coluna 'Entity'\n",
    "    dfs[f'df_{i}']['Code'].fillna(dfs[f'df_{i}']['Entity'], inplace=True)\n",
    "\n",
    "    # Remover linhas com valores nulos nas colunas\n",
    "    dfs[f'df_{i}'] = dfs[f'df_{i}'].dropna(subset=dfs[f'df_{i}'].columns)\n",
    "\n",
    "    # Renomear as colunas com base na primeira linha, exceto para o primeiro DataFrame\n",
    "    if i > 0:\n",
    "        col_names = dfs[f'df_{i}'].iloc[0].tolist()\n",
    "        dfs[f'df_{i}'].columns = col_names\n",
    "\n",
    "        # Remover a linha que foi usada como nome de colunas\n",
    "        dfs[f'df_{i}'] = dfs[f'df_{i}'].iloc[1:].reset_index(drop=True)\n",
    "    \n",
    "    # Adicionar uma nova coluna 'region' ao DataFrame com base na coluna 'Code' e no DataFrame df_iso\n",
    "    dfs[f'df_{i}']['Continent'] = dfs[f'df_{i}']['Code'].map(df_iso.set_index('alpha-3')['region'])\n",
    "    \n",
    "    # Filtrar linhas onde 'Code' não está presente em df_iso['alpha-3']\n",
    "    dfs[f'sub_df_{i}'] = dfs[f'df_{i}'][~dfs[f'df_{i}']['Code'].isin(df_iso['alpha-3'].str.upper())].reset_index(drop=True)\n",
    "    \n",
    "    # Filtrar linhas onde 'Code' está presente em df_iso['alpha-3'] e guardar num novo DataFrame\n",
    "    dfs[f'df_{i}'] = dfs[f'df_{i}'][dfs[f'df_{i}']['Code'].isin(df_iso['alpha-3'])].reset_index(drop=True)\n",
    "    \n",
    "    # Guardar o DataFrame como ficheiro CSV com um nome correspondente ao índice\n",
    "    dfs[f'df_{i}'].to_csv(f'data/clean_data/df_{i}.csv', index=False)\n",
    "    dfs[f'sub_df_{i}'].to_csv(f'data/clean_data/sub_df_{i}.csv', index=False)\n"
   ]
  },
  {
   "cell_type": "markdown",
   "metadata": {},
   "source": [
    "#### 2.3. Análise exploratória"
   ]
  },
  {
   "cell_type": "markdown",
   "metadata": {},
   "source": [
    "Nesta secção, optou-se por criar um conjunto de gráficos e tabelas que permitissem uma melhor compreensão do dataset, bem como encontrar relações entre as diversas variáveis."
   ]
  },
  {
   "cell_type": "markdown",
   "metadata": {},
   "source": [
    "##### Dataframes limpos"
   ]
  },
  {
   "cell_type": "code",
   "execution_count": 202,
   "metadata": {},
   "outputs": [],
   "source": [
    "# Carregar o ficheiro CSV 'df_0.csv' localizado em 'data/clean_data/' para um DataFrame chamado df_0\n",
    "data_df_0 = pd.read_csv('data/clean_data/df_0.csv')\n",
    "df_0 = pd.DataFrame(data_df_0)\n",
    "\n",
    "# Carregar o ficheiro CSV 'df_1.csv' localizado em 'data/clean_data/' para um DataFrame chamado df_1\n",
    "data_df_1 = pd.read_csv('data/clean_data/df_1.csv')\n",
    "df_1 = pd.DataFrame(data_df_1)\n",
    "\n",
    "# Carregar o ficheiro CSV 'sub_df_1.csv' localizado em 'data/clean_data/' para um DataFrame chamado sub_df_1\n",
    "data_sub_df_1 = pd.read_csv('data/clean_data/sub_df_1.csv')\n",
    "sub_df_1 = pd.DataFrame(data_sub_df_1)\n",
    "\n",
    "# Carregar o ficheiro CSV 'df_2.csv' localizado em 'data/clean_data/' para um DataFrame chamado df_2\n",
    "data_df_2 = pd.read_csv('data/clean_data/df_2.csv')\n",
    "df_2 = pd.DataFrame(data_df_2)\n",
    "\n",
    "# Carregar o ficheiro CSV 'df_3.csv' localizado em 'data/clean_data/' para um DataFrame chamado df_3\n",
    "data_df_3 = pd.read_csv('data/clean_data/df_3.csv')\n",
    "df_3 = pd.DataFrame(data_df_3)"
   ]
  },
  {
   "cell_type": "markdown",
   "metadata": {},
   "source": [
    "##### 2.3.1. Gráficos"
   ]
  },
  {
   "cell_type": "markdown",
   "metadata": {},
   "source": [
    "A. Mapa do mundo com estatísticas para a depressão ao longo do tempo"
   ]
  },
  {
   "cell_type": "code",
   "execution_count": 203,
   "metadata": {},
   "outputs": [],
   "source": [
    "import plotly.express as px\n",
    "\n",
    "def mapa():\n",
    "    # Criar um gráfico de mapa de choropleth utilizando o Plotly Express\n",
    "    fig = px.choropleth(df_0,  # DataFrame de dados\n",
    "                        locations='Code',  # Coluna do DataFrame que contém os códigos de localização\n",
    "                        color='Depression (%)',  # Coluna do DataFrame que contém os valores para atribuir cor\n",
    "                        scope=\"world\",  # Scope geográfico do mapa (neste caso, mundial)\n",
    "                        hover_name='Entity',  # Coluna do DataFrame usada para rótulos ao passar o rato sobre as áreas\n",
    "                        color_continuous_scale=px.colors.sequential.Plasma,  # Esquema de cores contínuas\n",
    "                        animation_frame='Year',  # Coluna do DataFrame usada para a animação ao longo do tempo\n",
    "                        animation_group='Entity')  # Coluna do DataFrame usada para agrupar áreas durante a animação\n",
    "\n",
    "    # Atualizar o layout do gráfico\n",
    "    fig.update_layout(\n",
    "        title=f\"Mapa Mundial da Depressão (%) ao longo dos anos\",\n",
    "        font=dict(family=\"Arial\", size=12),\n",
    "        margin=dict(l=5, r=5, t=50, b=5),\n",
    "        coloraxis=dict(cmin=df_0['Depression (%)'].min(), cmax=df_0['Depression (%)'].max()),  # Configurar os limites da escala de cores\n",
    "        height=700\n",
    "    )\n",
    "    \n",
    "    # Atualizar as configurações geográficas para ajustar os limites de exibição\n",
    "    fig.update_geos(fitbounds=\"locations\", visible=False)\n",
    "    \n",
    "    # Exibir o gráfico\n",
    "    fig.show()\n"
   ]
  },
  {
   "cell_type": "markdown",
   "metadata": {},
   "source": [
    "B.  Gráfico da relação da Taxa de Depressão com a Taxa de Suicídio no mundo"
   ]
  },
  {
   "cell_type": "code",
   "execution_count": 204,
   "metadata": {},
   "outputs": [],
   "source": [
    "def bolhas():\n",
    "    # Criar um gráfico de dispersão com bolhas utilizando o Plotly Express\n",
    "    fig = px.scatter(\n",
    "        df_2,  # DataFrame de dados\n",
    "        x=\"Depressive disorder rates (number suffering per 100,000)\",  # Eixo x: Taxa de transtorno depressivo\n",
    "        y=\"Suicide rate (deaths per 100,000 individuals)\",  # Eixo y: Taxa de suicídio\n",
    "        animation_frame=\"Year\",  # Coluna do DataFrame usada para a animação ao longo do tempo\n",
    "        animation_group=\"Entity\",  # Coluna do DataFrame usada para agrupar pontos durante a animação\n",
    "        size=\"Population\",  # Tamanho das bolhas baseado na coluna 'Population'\n",
    "        color=\"Continent\",  # Cor das bolhas baseada na coluna 'Continent'\n",
    "        hover_name=\"Entity\",  # Rótulo ao passar o rato sobre as bolhas\n",
    "        facet_col=\"Continent\",  # Criar subgráficos separados por continente\n",
    "        log_x=True,  # Usar escala logarítmica no eixo x\n",
    "        size_max=50,  # Tamanho máximo das bolhas\n",
    "        range_x=[2000, 6000],  # Faixa de valores no eixo x\n",
    "        range_y=[0, 60]  # Faixa de valores no eixo y\n",
    "    )\n",
    "\n",
    "    # Atualizar os eixos x\n",
    "    fig.update_xaxes(\n",
    "        tickangle=90,  # Ângulo de inclinação dos rótulos no eixo x\n",
    "        title_text=\"Taxa de Transtorno Depressivo\",  # Título do eixo x\n",
    "        title_font={\"size\": 12},  # Tamanho da fonte do título do eixo x\n",
    "        title_standoff=25  # Distância entre o título e o eixo x\n",
    "    )\n",
    "\n",
    "    # Atualizar o layout do gráfico\n",
    "    fig.update_layout(\n",
    "        title=dict(text=\"Gráfico ilustrando a relação global entre Taxas de Depressão e Suicídio\", font=dict(size=20), yref='paper')  # Título do gráfico\n",
    "    )\n",
    "\n",
    "    # Exibir o gráfico\n",
    "    fig.show()"
   ]
  },
  {
   "cell_type": "markdown",
   "metadata": {},
   "source": [
    "C. Gráfico de barras com a Pervalência de Depressão em homens e mulheres no mundo (Top 20)"
   ]
  },
  {
   "cell_type": "code",
   "execution_count": 205,
   "metadata": {},
   "outputs": [],
   "source": [
    "def barras():\n",
    "    # Criar uma figura e eixo com um tamanho específico\n",
    "    fig, ax = plt.subplots(figsize=(6, 6))\n",
    "    \n",
    "    # Entrada para o ano\n",
    "    year = int(input('Ano: '))\n",
    "    \n",
    "    # Filtrar dados para o ano especificado\n",
    "    data_year = df_1[df_1['Year'] == year]\n",
    "    \n",
    "    # Calcular a prevalência média para homens e mulheres\n",
    "    data_year['Média da Prevalência'] = (data_year['Prevalence in males (%)'] + data_year['Prevalence in females (%)']) / 2\n",
    "    \n",
    "    # Ordenar por prevalência média em ordem decrescente\n",
    "    data_year = data_year.sort_values(by='Média da Prevalência', ascending=False).head(20)\n",
    "    \n",
    "    # Criar gráficos de barras para homens e mulheres separadamente\n",
    "    bar_height = 0.8 \n",
    "    ax.barh(data_year['Entity'], data_year['Prevalence in males (%)'], height=bar_height, color='blue', alpha=0.3, label='Homens')\n",
    "    ax.barh(data_year['Entity'], data_year['Prevalence in females (%)'], left=data_year['Prevalence in males (%)'], height=bar_height, color='darkorange', alpha=0.3, label='Mulheres')\n",
    "    \n",
    "    # Adicionar rótulos de percentagem para homens\n",
    "    for i, valor in enumerate(data_year['Prevalence in males (%)']):\n",
    "        ax.text(valor, i, f'{valor:.2f}%', ha='right', va='center', color='blue', fontweight='bold')\n",
    "    \n",
    "    # Adicionar rótulos de percentagem para mulheres\n",
    "    for i, valor in enumerate(data_year['Prevalence in females (%)']):\n",
    "        ax.text(valor, i, f'{valor:.2f}%', ha='left', va='center', color='darkorange', fontweight='bold')\n",
    "    \n",
    "    # Adicionar uma barra para o mundo\n",
    "    world_values = sub_df_1[(sub_df_1['Entity'] == 'World') & (sub_df_1['Year'] == year)]\n",
    "    world_male_value = world_values['Prevalence in males (%)'].values[0]\n",
    "    world_female_value = world_values['Prevalence in females (%)'].values[0]\n",
    "    ax.barh('Mundo',world_male_value, height=bar_height, color='#00E676', alpha=0.3, label='Mundo Homens')\n",
    "    ax.barh('Mundo', world_female_value, left=world_male_value, height=bar_height, color='#CDDC39', alpha=0.3, label='Mundo Mulheres')\n",
    "\n",
    "    # Adicionar rótulos de percentagem para o mundo\n",
    "    ax.text(world_male_value, len(data_year), f'{world_male_value:.2f}%', ha='right', va='center', color='#00E676', fontweight='bold')\n",
    "    ax.text(world_female_value, len(data_year), f'{world_female_value:.2f}%', ha='left', va='center', color='#CDDC39', fontweight='bold')\n",
    "\n",
    "    # Adicionar um título e rótulos aos eixos\n",
    "    ax.set_title(f'Prevalência de depressão em homens e mulheres para o ano {year}', weight='bold')\n",
    "    ax.set_xlabel('Prevalência (%)')\n",
    "    ax.set_ylabel('País')\n",
    "    \n",
    "    # Inverter o eixo y para ter barras maiores no topo\n",
    "    ax.invert_yaxis()\n",
    "    \n",
    "    # Exibir a legenda\n",
    "    ax.legend()\n",
    "    \n",
    "    # Exibir o gráfico\n",
    "    plt.show()\n",
    "    \n",
    "    # Limpar a tela\n",
    "    clear_screen()\n",
    "    \n",
    "    # Retornar True para indicar que a tabela foi chamada\n",
    "    return True\n",
    "\n"
   ]
  },
  {
   "cell_type": "markdown",
   "metadata": {},
   "source": [
    "D. Evolução das doenças mentais ao longo dos anos"
   ]
  },
  {
   "cell_type": "code",
   "execution_count": 206,
   "metadata": {},
   "outputs": [],
   "source": [
    "def linhas():\n",
    "    # Solicitar o país\n",
    "    country = input('Qual o país: ').capitalize()\n",
    "    selected_country = df_0[df_0['Entity'] == country]\n",
    "\n",
    "    # Ajustar o tamanho dos subplots\n",
    "    fig = sp.make_subplots(rows=selected_country.columns[5:11].shape[0], cols=1, subplot_titles=selected_country.columns[5:11],\n",
    "                           shared_xaxes=True, vertical_spacing=0.02)\n",
    "\n",
    "    # Adicionar linhas para cada subplot\n",
    "    for i, col in enumerate(selected_country.columns[5:11], start=1):\n",
    "        fig.add_trace(go.Scatter(x=selected_country[\"Year\"], y=selected_country[col], mode='lines', name=col),\n",
    "                      row=i, col=1)\n",
    "\n",
    "    # Atualizar layout\n",
    "    fig.update_layout(height=selected_country.columns[5:11].shape[0] * 200, title_text='Evolution of the main mental health issues over the years',\n",
    "                      showlegend=False)\n",
    "\n",
    "    # Definir dtick para cada gráfico\n",
    "    dtick_values = [0.001, 0.02, 0.01, 0.01, 0.1, 0.02]  # Precisa de ser otimizado\n",
    "\n",
    "    for i in range(1, selected_country.columns[5:11].shape[0] + 1):\n",
    "        fig.update_yaxes(tickmode='linear', dtick=dtick_values[i-1], row=i, col=1, showgrid=False)\n",
    "\n",
    "    # Atualizar eixos\n",
    "    fig.update_xaxes(dtick=\"M1\", tickformat=\"%Y\", ticklabelmode=\"period\")\n",
    "\n",
    "    # Mostrar o gráfico\n",
    "    fig.show()\n"
   ]
  },
  {
   "cell_type": "markdown",
   "metadata": {},
   "source": [
    "##### 2.3.2. Tabelas"
   ]
  },
  {
   "cell_type": "markdown",
   "metadata": {},
   "source": [
    "A. Função para obter as tabelas dos dataframes"
   ]
  },
  {
   "cell_type": "code",
   "execution_count": 207,
   "metadata": {},
   "outputs": [],
   "source": [
    "def tabela(df):\n",
    "    # Solicitar o país\n",
    "    country = input('Qual o país: ').capitalize()\n",
    "    \n",
    "    # Imprimir o nome do país\n",
    "    print(\"=\" * len(country), country, \"=\" * len(country), sep=\"\\n\")\n",
    "    \n",
    "    # Imprimir a tabela usando o tabulate\n",
    "    print(tabulate(df[df['Entity'] == country], headers='keys', tablefmt='fancy_grid'))\n",
    "    \n",
    "    # Aguardar que o utilizador pressione de Enter para continuar\n",
    "    input(\"Pressione Enter para continuar...\")\n",
    "    \n",
    "    # Limpar a tela após pressionar Enter\n",
    "    clear_screen()\n",
    "    \n",
    "    # Retornar True para indicar que a tabela foi chamada\n",
    "    return True"
   ]
  },
  {
   "cell_type": "markdown",
   "metadata": {},
   "source": [
    "B. Função para obter as tabelas estatísticas"
   ]
  },
  {
   "cell_type": "code",
   "execution_count": 208,
   "metadata": {},
   "outputs": [],
   "source": [
    "def tabela_describe(df):\n",
    "    # Solicitar o país\n",
    "    country = input('Qual o país: ').capitalize()\n",
    "    \n",
    "    # Imprimir o nome do país\n",
    "    print(\"=\" * len(country), country, \"=\" * len(country), sep=\"\\n\")\n",
    "    \n",
    "    # Imprimir a tabela usando o tabulate\n",
    "    print(tabulate(df[df['Entity'] == country].describe(), headers='keys', tablefmt='fancy_grid'))\n",
    "    \n",
    "    # Aguardar que o utilizador pressione de Enter para continuar\n",
    "    input(\"Pressione Enter para continuar...\")\n",
    "    \n",
    "    # Limpar a tela após pressionar Enter\n",
    "    os.system('cls' if os.name == 'nt' else 'clear')\n",
    "    \n",
    "    # Retornar True para indicar que a tabela foi chamada\n",
    "    return True"
   ]
  },
  {
   "cell_type": "markdown",
   "metadata": {},
   "source": [
    "#### 2.4. Configuração do menu e função principal"
   ]
  },
  {
   "cell_type": "markdown",
   "metadata": {},
   "source": [
    "##### 2.4.1. Menu"
   ]
  },
  {
   "cell_type": "code",
   "execution_count": 209,
   "metadata": {},
   "outputs": [],
   "source": [
    "def clear_screen():\n",
    "    os.system('cls' if os.name == 'nt' else 'clear')"
   ]
  },
  {
   "cell_type": "code",
   "execution_count": 210,
   "metadata": {},
   "outputs": [],
   "source": [
    "def menu(titulo, opcoes):\n",
    "    clear_flag = True  # Flag inicial para limpar a tela\n",
    "\n",
    "    while True: # Inicia um loop infinito para manter o menu em execução até que o utilizador escolha a opção de sair.\n",
    "        if clear_flag: # Verifica se a flag para limpar a tela está ativa.\n",
    "            clear_screen()\n",
    "\n",
    "        # Apresentação do cabeçalho do projeto\n",
    "        print(\"=\" * len('PROJETO DE PROGRAMAÇÃO E ALGORITMOS EM CIÊNCIAS'), 'PROJETO DE PROGRAMAÇÃO E ALGORITMOS EM CIÊNCIAS\\n\\nPedro Venâncio, nº88226\\nMestrado em Bioinformática Clínica\\n', sep=\"\\n\")\n",
    "        print(\"=\" * len(titulo), titulo, \"=\" * len(titulo), sep=\"\\n\")\n",
    "\n",
    "        # Apresentação das opções do menu\n",
    "        for i, (opcao, funcao) in enumerate(opcoes, 1): # Itera sobre as opções do menu com um índice começado em 1\n",
    "            print(\"[{}] - {}\".format(i, opcao)) # Apresenta cada opção numerada\n",
    "        print(\"[{}] - Voltar/Sair\".format(i + 1)) # Apresenta a opção para voltar ou sair do menu.\n",
    "        op = input(\"Opção: \") # Solicita a entrada do utilizador\n",
    "\n",
    "        # Verificação se a entrada é um número válido\n",
    "        if op.isdigit():\n",
    "            if 1 <= int(op) <= i + 1:\n",
    "                if int(op) == i + 1:\n",
    "                    # Encerra este menu e retorna à função anterior\n",
    "                    break\n",
    "                if int(op) <= len(opcoes):\n",
    "                    # Chama a função associada à opção escolhida\n",
    "                    clear_flag = opcoes[int(op) - 1][1]()\n",
    "                    continue\n",
    "\n",
    "        # Mensagem de erro para entrada inválida\n",
    "        print(\"Opção inválida. \\n\\n\")\n",
    "        clear_flag = True\n",
    "\n",
    "    return clear_flag\n"
   ]
  },
  {
   "cell_type": "markdown",
   "metadata": {},
   "source": [
    "##### 2.4.2. Função para aceder aos gráficos no menu"
   ]
  },
  {
   "cell_type": "code",
   "execution_count": 211,
   "metadata": {},
   "outputs": [],
   "source": [
    "def graficos():\n",
    "    # Lista de opções para o menu de gráficos, cada opção é um tuplo contendo o nome do gráfico e a função associada\n",
    "    opcoes = [\n",
    "        (\"Mapa do mundo com estatísticas para a depressão ao longo do tempo\", mapa),\n",
    "        (\"Gráfico da relação da Taxa de Depressão com a Taxa de Suicídio no mundo\", bolhas),\n",
    "        (\"Gráfico de barras com a prevalência de depressão em homens e mulheres\", barras),\n",
    "        (\"Gráfico de linhas com a evolução dos principais problemas de saúde mental ao longo dos anos\", linhas)\n",
    "    ]\n",
    "\n",
    "    # Chama a função do menu e passa o título 'Gráficos' e a lista de opções\n",
    "    return menu('Gráficos', opcoes)\n"
   ]
  },
  {
   "cell_type": "markdown",
   "metadata": {},
   "source": [
    "##### 2.4.3. Função para aceder às tabelas no menu"
   ]
  },
  {
   "cell_type": "code",
   "execution_count": 212,
   "metadata": {},
   "outputs": [],
   "source": [
    "def tabelas():\n",
    "    # Lista de opções para o menu de tabelas, cada opção é um tuplo contendo o nome da tabela e a função associada\n",
    "    opcoes = [\n",
    "        (\"DF0: Tabela Saúde Mental\", partial(tabela, df_0)),\n",
    "        (\"DF1: Depressão em Homens e Mulheres (%)\", partial(tabela, df_1)),\n",
    "        (\"DF2: Suicídio e Depressão na População\", partial(tabela, df_2)),\n",
    "        (\"DF3: Depressão na População\", partial(tabela, df_3)),\n",
    "        (\"Estatísticas: Tabela Saúde Mental\", partial(tabela_describe, df_0)),\n",
    "        (\"Estatísticas: Depressão em Homens e Mulheres (%)\", partial(tabela_describe, df_1)),\n",
    "        (\"Estatísticas: Suicídio e Depressão na População\", partial(tabela_describe, df_2)),\n",
    "        (\"Estatísticas: Depressão na População\", partial(tabela_describe, df_3))\n",
    "    ]\n",
    "\n",
    "    # Chama a função do menu e passa o título 'Tabelas' e a lista de opções\n",
    "    return menu('Tabelas', opcoes)\n"
   ]
  },
  {
   "cell_type": "markdown",
   "metadata": {},
   "source": [
    "##### 2.4.4. Função principal"
   ]
  },
  {
   "cell_type": "code",
   "execution_count": 213,
   "metadata": {},
   "outputs": [
    {
     "name": "stdout",
     "output_type": "stream",
     "text": [
      "\u001b[H\u001b[2J===============================================\n",
      "PROJETO DE PROGRAMAÇÃO E ALGORITMOS EM CIÊNCIAS\n",
      "\n",
      "Pedro Venâncio, nº88226\n",
      "Mestrado em Bioinformática Clínica\n",
      "\n",
      "=============================================\n",
      "Tendências globais em matéria de saúde mental\n",
      "=============================================\n",
      "[1] - Gráficos\n",
      "[2] - Tabelas\n",
      "[3] - Voltar/Sair\n"
     ]
    },
    {
     "name": "stdout",
     "output_type": "stream",
     "text": [
      "\u001b[H\u001b[2J===============================================\n",
      "PROJETO DE PROGRAMAÇÃO E ALGORITMOS EM CIÊNCIAS\n",
      "\n",
      "Pedro Venâncio, nº88226\n",
      "Mestrado em Bioinformática Clínica\n",
      "\n",
      "=======\n",
      "Tabelas\n",
      "=======\n",
      "[1] - DF0: Tabela Saúde Mental\n",
      "[2] - DF1: Depressão em Homens e Mulheres (%)\n",
      "[3] - DF2: Suicídio e Depressão na População\n",
      "[4] - DF3: Depressão na População\n",
      "[5] - Estatísticas: Tabela Saúde Mental\n",
      "[6] - Estatísticas: Depressão em Homens e Mulheres (%)\n",
      "[7] - Estatísticas: Suicídio e Depressão na População\n",
      "[8] - Estatísticas: Depressão na População\n",
      "[9] - Voltar/Sair\n",
      "========\n",
      "Portugal\n",
      "========\n",
      "╒═══════╤════════════╤════════════╤═════════════════════╤════════════════════════╤════════════════════════╤═════════════════════════╤══════════════════════════╤══════════════════╤═════════════════════════════╕\n",
      "│       │      index │       Year │   Schizophrenia (%) │   Bipolar disorder (%) │   Eating disorders (%) │   Anxiety disorders (%) │   Drug use disorders (%) │   Depression (%) │   Alcohol use disorders (%) │\n",
      "╞═══════╪════════════╪════════════╪═════════════════════╪════════════════════════╪════════════════════════╪═════════════════════════╪══════════════════════════╪══════════════════╪═════════════════════════════╡\n",
      "│ count │   28       │   28       │        28           │            28          │             28         │              28         │               28         │       28         │                  28         │\n",
      "├───────┼────────────┼────────────┼─────────────────────┼────────────────────────┼────────────────────────┼─────────────────────────┼──────────────────────────┼──────────────────┼─────────────────────────────┤\n",
      "│ mean  │ 4577.5     │ 2003.5     │         0.248246    │             0.924198   │              0.471559  │               5.3576    │                0.689839  │        4.69908   │                   1.25377   │\n",
      "├───────┼────────────┼────────────┼─────────────────────┼────────────────────────┼────────────────────────┼─────────────────────────┼──────────────────────────┼──────────────────┼─────────────────────────────┤\n",
      "│ std   │    8.22598 │    8.22598 │         0.000955437 │             0.00184895 │              0.0341076 │               0.0143836 │                0.0160154 │        0.0919124 │                   0.0490548 │\n",
      "├───────┼────────────┼────────────┼─────────────────────┼────────────────────────┼────────────────────────┼─────────────────────────┼──────────────────────────┼──────────────────┼─────────────────────────────┤\n",
      "│ min   │ 4564       │ 1990       │         0.245587    │             0.920503   │              0.407389  │               5.33011   │                0.669327  │        4.42146   │                   1.16257   │\n",
      "├───────┼────────────┼────────────┼─────────────────────┼────────────────────────┼────────────────────────┼─────────────────────────┼──────────────────────────┼──────────────────┼─────────────────────────────┤\n",
      "│ 25%   │ 4570.75    │ 1996.75    │         0.24788     │             0.922854   │              0.444051  │               5.34964   │                0.674698  │        4.66643   │                   1.2132    │\n",
      "├───────┼────────────┼────────────┼─────────────────────┼────────────────────────┼────────────────────────┼─────────────────────────┼──────────────────────────┼──────────────────┼─────────────────────────────┤\n",
      "│ 50%   │ 4577.5     │ 2003.5     │         0.248719    │             0.924514   │              0.478706  │               5.35144   │                0.686863  │        4.70952   │                   1.27733   │\n",
      "├───────┼────────────┼────────────┼─────────────────────┼────────────────────────┼────────────────────────┼─────────────────────────┼──────────────────────────┼──────────────────┼─────────────────────────────┤\n",
      "│ 75%   │ 4584.25    │ 2010.25    │         0.248865    │             0.925738   │              0.501995  │               5.37144   │                0.706796  │        4.76361   │                   1.29228   │\n",
      "├───────┼────────────┼────────────┼─────────────────────┼────────────────────────┼────────────────────────┼─────────────────────────┼──────────────────────────┼──────────────────┼─────────────────────────────┤\n",
      "│ max   │ 4591       │ 2017       │         0.249372    │             0.926881   │              0.513079  │               5.38326   │                0.714561  │        4.80887   │                   1.29696   │\n",
      "╘═══════╧════════════╧════════════╧═════════════════════╧════════════════════════╧════════════════════════╧═════════════════════════╧══════════════════════════╧══════════════════╧═════════════════════════════╛\n",
      "\u001b[H\u001b[2J\u001b[H\u001b[2J===============================================\n",
      "PROJETO DE PROGRAMAÇÃO E ALGORITMOS EM CIÊNCIAS\n",
      "\n",
      "Pedro Venâncio, nº88226\n",
      "Mestrado em Bioinformática Clínica\n",
      "\n",
      "=======\n",
      "Tabelas\n",
      "=======\n",
      "[1] - DF0: Tabela Saúde Mental\n",
      "[2] - DF1: Depressão em Homens e Mulheres (%)\n",
      "[3] - DF2: Suicídio e Depressão na População\n",
      "[4] - DF3: Depressão na População\n",
      "[5] - Estatísticas: Tabela Saúde Mental\n",
      "[6] - Estatísticas: Depressão em Homens e Mulheres (%)\n",
      "[7] - Estatísticas: Suicídio e Depressão na População\n",
      "[8] - Estatísticas: Depressão na População\n",
      "[9] - Voltar/Sair\n",
      "=\n",
      "7\n",
      "=\n",
      "╒═══════╤════════╤════════╤═══════════════════════════╤═════════════════════════════╤══════════════╕\n",
      "│       │   6468 │   Year │   Prevalence in males (%) │   Prevalence in females (%) │   Population │\n",
      "╞═══════╪════════╪════════╪═══════════════════════════╪═════════════════════════════╪══════════════╡\n",
      "│ count │      0 │      0 │                         0 │                           0 │            0 │\n",
      "├───────┼────────┼────────┼───────────────────────────┼─────────────────────────────┼──────────────┤\n",
      "│ mean  │    nan │    nan │                       nan │                         nan │          nan │\n",
      "├───────┼────────┼────────┼───────────────────────────┼─────────────────────────────┼──────────────┤\n",
      "│ std   │    nan │    nan │                       nan │                         nan │          nan │\n",
      "├───────┼────────┼────────┼───────────────────────────┼─────────────────────────────┼──────────────┤\n",
      "│ min   │    nan │    nan │                       nan │                         nan │          nan │\n",
      "├───────┼────────┼────────┼───────────────────────────┼─────────────────────────────┼──────────────┤\n",
      "│ 25%   │    nan │    nan │                       nan │                         nan │          nan │\n",
      "├───────┼────────┼────────┼───────────────────────────┼─────────────────────────────┼──────────────┤\n",
      "│ 50%   │    nan │    nan │                       nan │                         nan │          nan │\n",
      "├───────┼────────┼────────┼───────────────────────────┼─────────────────────────────┼──────────────┤\n",
      "│ 75%   │    nan │    nan │                       nan │                         nan │          nan │\n",
      "├───────┼────────┼────────┼───────────────────────────┼─────────────────────────────┼──────────────┤\n",
      "│ max   │    nan │    nan │                       nan │                         nan │          nan │\n",
      "╘═══════╧════════╧════════╧═══════════════════════════╧═════════════════════════════╧══════════════╛\n",
      "\u001b[H\u001b[2J\u001b[H\u001b[2J===============================================\n",
      "PROJETO DE PROGRAMAÇÃO E ALGORITMOS EM CIÊNCIAS\n",
      "\n",
      "Pedro Venâncio, nº88226\n",
      "Mestrado em Bioinformática Clínica\n",
      "\n",
      "=======\n",
      "Tabelas\n",
      "=======\n",
      "[1] - DF0: Tabela Saúde Mental\n",
      "[2] - DF1: Depressão em Homens e Mulheres (%)\n",
      "[3] - DF2: Suicídio e Depressão na População\n",
      "[4] - DF3: Depressão na População\n",
      "[5] - Estatísticas: Tabela Saúde Mental\n",
      "[6] - Estatísticas: Depressão em Homens e Mulheres (%)\n",
      "[7] - Estatísticas: Suicídio e Depressão na População\n",
      "[8] - Estatísticas: Depressão na População\n",
      "[9] - Voltar/Sair\n",
      "========\n",
      "Portugal\n",
      "========\n",
      "╒═══════╤══════════════╤════════════╤═════════════════════════════════════════════════════════════════════════════════════════════════════════════╕\n",
      "│       │       102084 │       Year │   Prevalence - Depressive disorders - Sex: Both - Age: All Ages (Number) (people suffering from depression) │\n",
      "╞═══════╪══════════════╪════════════╪═════════════════════════════════════════════════════════════════════════════════════════════════════════════╡\n",
      "│ count │     28       │   28       │                                                                                                          28 │\n",
      "├───────┼──────────────┼────────────┼─────────────────────────────────────────────────────────────────────────────────────────────────────────────┤\n",
      "│ mean  │ 106662       │ 2003.5     │                                                                                                      543567 │\n",
      "├───────┼──────────────┼────────────┼─────────────────────────────────────────────────────────────────────────────────────────────────────────────┤\n",
      "│ std   │      8.22598 │    8.22598 │                                                                                                       28567 │\n",
      "├───────┼──────────────┼────────────┼─────────────────────────────────────────────────────────────────────────────────────────────────────────────┤\n",
      "│ min   │ 106649       │ 1990       │                                                                                                      497190 │\n",
      "├───────┼──────────────┼────────────┼─────────────────────────────────────────────────────────────────────────────────────────────────────────────┤\n",
      "│ 25%   │ 106656       │ 1996.75    │                                                                                                      517576 │\n",
      "├───────┼──────────────┼────────────┼─────────────────────────────────────────────────────────────────────────────────────────────────────────────┤\n",
      "│ 50%   │ 106662       │ 2003.5     │                                                                                                      549434 │\n",
      "├───────┼──────────────┼────────────┼─────────────────────────────────────────────────────────────────────────────────────────────────────────────┤\n",
      "│ 75%   │ 106669       │ 2010.25    │                                                                                                      570641 │\n",
      "├───────┼──────────────┼────────────┼─────────────────────────────────────────────────────────────────────────────────────────────────────────────┤\n",
      "│ max   │ 106676       │ 2017       │                                                                                                      576855 │\n",
      "╘═══════╧══════════════╧════════════╧═════════════════════════════════════════════════════════════════════════════════════════════════════════════╛\n",
      "\u001b[H\u001b[2J\u001b[H\u001b[2J===============================================\n",
      "PROJETO DE PROGRAMAÇÃO E ALGORITMOS EM CIÊNCIAS\n",
      "\n",
      "Pedro Venâncio, nº88226\n",
      "Mestrado em Bioinformática Clínica\n",
      "\n",
      "=======\n",
      "Tabelas\n",
      "=======\n",
      "[1] - DF0: Tabela Saúde Mental\n",
      "[2] - DF1: Depressão em Homens e Mulheres (%)\n",
      "[3] - DF2: Suicídio e Depressão na População\n",
      "[4] - DF3: Depressão na População\n",
      "[5] - Estatísticas: Tabela Saúde Mental\n",
      "[6] - Estatísticas: Depressão em Homens e Mulheres (%)\n",
      "[7] - Estatísticas: Suicídio e Depressão na População\n",
      "[8] - Estatísticas: Depressão na População\n",
      "[9] - Voltar/Sair\n",
      "\u001b[H\u001b[2J===============================================\n",
      "PROJETO DE PROGRAMAÇÃO E ALGORITMOS EM CIÊNCIAS\n",
      "\n",
      "Pedro Venâncio, nº88226\n",
      "Mestrado em Bioinformática Clínica\n",
      "\n",
      "=============================================\n",
      "Tendências globais em matéria de saúde mental\n",
      "=============================================\n",
      "[1] - Gráficos\n",
      "[2] - Tabelas\n",
      "[3] - Voltar/Sair\n"
     ]
    },
    {
     "data": {
      "text/plain": [
       "True"
      ]
     },
     "execution_count": 213,
     "metadata": {},
     "output_type": "execute_result"
    }
   ],
   "source": [
    "def main():\n",
    "    # Lista de opções para o menu principal, cada opção é um tuplo contendo o nome da categoria e a função associada\n",
    "    opcoes = [\n",
    "        (\"Gráficos\", graficos),\n",
    "        (\"Tabelas\", tabelas),\n",
    "    ]\n",
    "\n",
    "    # Chama a função do menu principal e passa o título 'Tendências globais em matéria de saúde mental' e a lista de opções\n",
    "    return menu('Tendências globais em matéria de saúde mental', opcoes)\n",
    "\n",
    "# Inicia a execução do programa chamando a função main()\n",
    "main()\n"
   ]
  },
  {
   "cell_type": "markdown",
   "metadata": {},
   "source": [
    "### 3. Conclusão "
   ]
  }
 ],
 "metadata": {
  "kernelspec": {
   "display_name": "ds",
   "language": "python",
   "name": "python3"
  },
  "language_info": {
   "codemirror_mode": {
    "name": "ipython",
    "version": 3
   },
   "file_extension": ".py",
   "mimetype": "text/x-python",
   "name": "python",
   "nbconvert_exporter": "python",
   "pygments_lexer": "ipython3",
   "version": "3.10.12"
  }
 },
 "nbformat": 4,
 "nbformat_minor": 2
}
