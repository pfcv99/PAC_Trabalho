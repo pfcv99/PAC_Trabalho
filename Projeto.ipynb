{
 "cells": [
  {
   "cell_type": "markdown",
   "metadata": {},
   "source": [
    "# Projeto de Programação e Algoritmos em Ciência"
   ]
  },
  {
   "cell_type": "markdown",
   "metadata": {},
   "source": [
    "## Tendências globais em matéria de saúde mental."
   ]
  },
  {
   "cell_type": "markdown",
   "metadata": {},
   "source": [
    "### 1. Introdução "
   ]
  },
  {
   "cell_type": "markdown",
   "metadata": {},
   "source": [
    "Este conjunto de dados contém informações de países do mundo sobre a prevalência de distúrbios de saúde mental, incluindo a esquizofrenia, o transtorno bipolar, distúrbios alimentares, transtornos de ansiedade, transtornos por uso de drogas, depressão e transtornos por uso de álcool. Estes dados poderão ser úteis na medida em que poderá ser possível obter insights sobre como essas questões estão a impactar as vidas das pessoas. Há, portanto, algumas questões que se levantam, tais como:\n",
    "\n",
    "1. Quais são os tipos de distúrbios de saúde mental que as pessoas pelo mundo têm vindo a enfrentar?\n",
    "2. Quantas pessoas em cada país sofrem de problemas de saúde mental?\n",
    "3. Serão os homens ou mulheres quem têm maior probabilidade de ter depressão?\n",
    "4. A depressão está relacionada com o suicídio?\n",
    "\n",
    "Ao explorar padrões entre as taxas de prevalência por meio de visualização de dados, é, portanto, possível compreender melhor essas questões complexas."
   ]
  },
  {
   "cell_type": "markdown",
   "metadata": {},
   "source": [
    "### 2. Métodos "
   ]
  },
  {
   "cell_type": "markdown",
   "metadata": {},
   "source": [
    "Neste trabalho optou-se por se subdividir o problema em quatro partes:\n",
    "\n",
    "1. Obtenção dos dados\n",
    "2. Tratamento dos dados\n",
    "3. Análise Exploratória \n",
    "4. Configuração do menu e função principal\n",
    "\n",
    "Cada parte encontra-se documentada com comentários nos quais são detalhados todos os passos efetuados. "
   ]
  },
  {
   "cell_type": "markdown",
   "metadata": {},
   "source": [
    "#### 2.1. Obtenção dos dados"
   ]
  },
  {
   "cell_type": "markdown",
   "metadata": {},
   "source": [
    "O [dataset](https://www.kaggle.com/datasets/thedevastator/uncover-global-trends-in-mental-health-disorder) usado foi obtido através do website [Kaggle](https://www.kaggle.com/), um dos maiores repositórios de modelos, dados e código publicados pela comunidade."
   ]
  },
  {
   "cell_type": "markdown",
   "metadata": {},
   "source": [
    "#### 2.2. Tratamento dos dados"
   ]
  },
  {
   "cell_type": "markdown",
   "metadata": {},
   "source": [
    "Nesta parte fez-se um conjunto de operações para tornar o dataset 'usable'. Se virmos este dataset como uma tabela, então a tabela principal era composta por sub-tabelas que se encontravam acopladas e sem uma estrutura coesa e organizada. Foi, portanto, necessário efetuar operações que limpeza, reorganização e criação de novos dataframes."
   ]
  },
  {
   "cell_type": "markdown",
   "metadata": {},
   "source": [
    "##### Módulos Usados"
   ]
  },
  {
   "cell_type": "code",
   "execution_count": 434,
   "metadata": {},
   "outputs": [],
   "source": [
    "import os\n",
    "import pandas as pd\n",
    "import plotly.express as px\n",
    "import matplotlib.pyplot as plt\n",
    "import seaborn as sns\n",
    "import plotly.subplots as sp\n",
    "import plotly.graph_objects as go\n",
    "from ipywidgets import widgets\n",
    "from art import *\n",
    "from tabulate import tabulate"
   ]
  },
  {
   "cell_type": "markdown",
   "metadata": {},
   "source": [
    "##### 2.2.1. Upload dos dados em bruto"
   ]
  },
  {
   "cell_type": "code",
   "execution_count": 435,
   "metadata": {},
   "outputs": [
    {
     "name": "stderr",
     "output_type": "stream",
     "text": [
      "/var/folders/km/dt_l1qsx1kvdth2cmx91yspm0000gn/T/ipykernel_96479/2873267272.py:2: DtypeWarning:\n",
      "\n",
      "Columns (5,6) have mixed types. Specify dtype option on import or set low_memory=False.\n",
      "\n"
     ]
    }
   ],
   "source": [
    "#Carregar o conjunto de dados principal a partir do arquivo CSV especificado ('Mental_health_Depression_disorder_Data.csv')\n",
    "dataset = pd.read_csv('data/raw_data/Mental_health_Depression_disorder_Data.csv')\n",
    "\n",
    "# Carregar outro conjunto de dados contendo códigos de país ISO a partir do arquivo CSV especificado ('iso_countries.csv')\n",
    "iso_countries = pd.read_csv('data/raw_data/iso_countries.csv')"
   ]
  },
  {
   "cell_type": "markdown",
   "metadata": {},
   "source": [
    "##### 2.2.2. Criação dos dataframes"
   ]
  },
  {
   "cell_type": "code",
   "execution_count": 436,
   "metadata": {},
   "outputs": [],
   "source": [
    "# Criar um novo DataFrame do pandas chamado 'df_geral' e preenchê-lo com os dados do conjunto de dados principal\n",
    "df_geral = pd.DataFrame(dataset)\n",
    "\n",
    "# Criar um novo DataFrame do pandas chamado 'df_iso' e preenchê-lo com os dados do conjunto de dados de códigos de país ISO\n",
    "df_iso = pd.DataFrame(iso_countries)"
   ]
  },
  {
   "cell_type": "markdown",
   "metadata": {},
   "source": [
    "##### 2.2.3. Identificação das sub-tabelas"
   ]
  },
  {
   "cell_type": "code",
   "execution_count": 437,
   "metadata": {},
   "outputs": [
    {
     "data": {
      "text/html": [
       "<div>\n",
       "<style scoped>\n",
       "    .dataframe tbody tr th:only-of-type {\n",
       "        vertical-align: middle;\n",
       "    }\n",
       "\n",
       "    .dataframe tbody tr th {\n",
       "        vertical-align: top;\n",
       "    }\n",
       "\n",
       "    .dataframe thead th {\n",
       "        text-align: right;\n",
       "    }\n",
       "</style>\n",
       "<table border=\"1\" class=\"dataframe\">\n",
       "  <thead>\n",
       "    <tr style=\"text-align: right;\">\n",
       "      <th></th>\n",
       "      <th>index</th>\n",
       "      <th>Entity</th>\n",
       "      <th>Code</th>\n",
       "      <th>Year</th>\n",
       "      <th>Schizophrenia (%)</th>\n",
       "      <th>Bipolar disorder (%)</th>\n",
       "      <th>Eating disorders (%)</th>\n",
       "      <th>Anxiety disorders (%)</th>\n",
       "      <th>Drug use disorders (%)</th>\n",
       "      <th>Depression (%)</th>\n",
       "      <th>Alcohol use disorders (%)</th>\n",
       "    </tr>\n",
       "  </thead>\n",
       "  <tbody>\n",
       "    <tr>\n",
       "      <th>6468</th>\n",
       "      <td>6468</td>\n",
       "      <td>Entity</td>\n",
       "      <td>Code</td>\n",
       "      <td>Year</td>\n",
       "      <td>Prevalence in males (%)</td>\n",
       "      <td>Prevalence in females (%)</td>\n",
       "      <td>Population</td>\n",
       "      <td>NaN</td>\n",
       "      <td>NaN</td>\n",
       "      <td>NaN</td>\n",
       "      <td>NaN</td>\n",
       "    </tr>\n",
       "    <tr>\n",
       "      <th>54276</th>\n",
       "      <td>54276</td>\n",
       "      <td>Entity</td>\n",
       "      <td>Code</td>\n",
       "      <td>Year</td>\n",
       "      <td>Suicide rate (deaths per 100,000 individuals)</td>\n",
       "      <td>Depressive disorder rates (number suffering pe...</td>\n",
       "      <td>Population</td>\n",
       "      <td>NaN</td>\n",
       "      <td>NaN</td>\n",
       "      <td>NaN</td>\n",
       "      <td>NaN</td>\n",
       "    </tr>\n",
       "    <tr>\n",
       "      <th>102084</th>\n",
       "      <td>102084</td>\n",
       "      <td>Entity</td>\n",
       "      <td>Code</td>\n",
       "      <td>Year</td>\n",
       "      <td>Prevalence - Depressive disorders - Sex: Both ...</td>\n",
       "      <td>NaN</td>\n",
       "      <td>NaN</td>\n",
       "      <td>NaN</td>\n",
       "      <td>NaN</td>\n",
       "      <td>NaN</td>\n",
       "      <td>NaN</td>\n",
       "    </tr>\n",
       "  </tbody>\n",
       "</table>\n",
       "</div>"
      ],
      "text/plain": [
       "         index  Entity  Code  Year  \\\n",
       "6468      6468  Entity  Code  Year   \n",
       "54276    54276  Entity  Code  Year   \n",
       "102084  102084  Entity  Code  Year   \n",
       "\n",
       "                                        Schizophrenia (%)  \\\n",
       "6468                              Prevalence in males (%)   \n",
       "54276       Suicide rate (deaths per 100,000 individuals)   \n",
       "102084  Prevalence - Depressive disorders - Sex: Both ...   \n",
       "\n",
       "                                     Bipolar disorder (%)  \\\n",
       "6468                            Prevalence in females (%)   \n",
       "54276   Depressive disorder rates (number suffering pe...   \n",
       "102084                                                NaN   \n",
       "\n",
       "       Eating disorders (%)  Anxiety disorders (%)  Drug use disorders (%)  \\\n",
       "6468             Population                    NaN                     NaN   \n",
       "54276            Population                    NaN                     NaN   \n",
       "102084                  NaN                    NaN                     NaN   \n",
       "\n",
       "        Depression (%)  Alcohol use disorders (%)  \n",
       "6468               NaN                        NaN  \n",
       "54276              NaN                        NaN  \n",
       "102084             NaN                        NaN  "
      ]
     },
     "execution_count": 437,
     "metadata": {},
     "output_type": "execute_result"
    }
   ],
   "source": [
    "# Criar uma visualização de subconjunto (subtable_view) do DataFrame df_geral, selecionando apenas as linhas em que a coluna 'Year' é igual à string 'Year' para identificar os cabeçalhos de coluna\n",
    "subtable_view = df_geral[df_geral['Year'] == 'Year']\n",
    "\n",
    "# Exibir as primeiras linhas da visualização de subconjunto usando o método head(), que por padrão mostra as primeiras 5 linhas\n",
    "subtable_view.head()\n"
   ]
  },
  {
   "cell_type": "markdown",
   "metadata": {},
   "source": [
    "##### 2.2.4. Identificação dos índices para separação das tabelas"
   ]
  },
  {
   "cell_type": "code",
   "execution_count": 438,
   "metadata": {},
   "outputs": [
    {
     "name": "stdout",
     "output_type": "stream",
     "text": [
      "[0, 6468, 54276, 102084, 108552]\n"
     ]
    }
   ],
   "source": [
    "# Criar uma lista (index_lst) contendo os valores da coluna 'index' da visualização de subconjunto (subtable_view)\n",
    "index_lst = subtable_view['index'].tolist()\n",
    "\n",
    "# Inserir o valor 0 no início da lista\n",
    "index_lst.insert(0, 0)\n",
    "\n",
    "# Adicionar o último valor da coluna 'index' do DataFrame original (df_geral) ao final da lista\n",
    "index_lst.append(df_geral['index'].iloc[-1])\n",
    "\n",
    "# Imprimir a lista resultante\n",
    "print(index_lst)\n"
   ]
  },
  {
   "cell_type": "markdown",
   "metadata": {},
   "source": [
    "##### 2.2.5. Operações de limpeza do dataframe principal, criação de novos dataframes a partir das sub-tabelas e armazenamento dos dataframes limpos em ficheiros CSV"
   ]
  },
  {
   "cell_type": "code",
   "execution_count": 439,
   "metadata": {},
   "outputs": [],
   "source": [
    "# Criar um dicionário vazio para armazenar os DataFrames resultantes\n",
    "dfs = {}\n",
    "\n",
    "# Iterar sobre os elementos da lista de índices\n",
    "for i in range(len(index_lst) - 1):\n",
    "    # Definir o início e o final do intervalo com base nos valores da lista de índices\n",
    "    start = index_lst[i]\n",
    "    end = index_lst[i + 1] - 1  # Subtrai 1 para obter o intervalo correto\n",
    "\n",
    "    # Criar um novo DataFrame (dfs[f'df_{i}']) com base no intervalo definido\n",
    "    dfs[f'df_{i}'] = df_geral.iloc[start:end + 1].copy()\n",
    "\n",
    "    # Fazer reset dos índices e remover as colunas que são compostas apenas por valores nulos (NaN)\n",
    "    dfs[f'df_{i}'].reset_index(drop=True, inplace=True)\n",
    "    dfs[f'df_{i}'] = dfs[f'df_{i}'].dropna(axis=1, how='all')\n",
    "    \n",
    "    # Substituir 'NaN' na coluna 'Code' pelo valor correspondente na coluna 'Entity'\n",
    "    dfs[f'df_{i}']['Code'].fillna(dfs[f'df_{i}']['Entity'], inplace=True)\n",
    "\n",
    "    # Remover linhas com valores nulos nas colunas\n",
    "    dfs[f'df_{i}'] = dfs[f'df_{i}'].dropna(subset=dfs[f'df_{i}'].columns)\n",
    "\n",
    "    # Renomear as colunas com base na primeira linha, exceto para o primeiro DataFrame\n",
    "    if i > 0:\n",
    "        col_names = dfs[f'df_{i}'].iloc[0].tolist()\n",
    "        dfs[f'df_{i}'].columns = col_names\n",
    "\n",
    "        # Remover a linha que foi usada como nome de colunas\n",
    "        dfs[f'df_{i}'] = dfs[f'df_{i}'].iloc[1:].reset_index(drop=True)\n",
    "    \n",
    "    # Adicionar uma nova coluna 'region' ao DataFrame com base na coluna 'Code' e no DataFrame df_iso\n",
    "    dfs[f'df_{i}']['Continent'] = dfs[f'df_{i}']['Code'].map(df_iso.set_index('alpha-3')['region'])\n",
    "    \n",
    "    # Filtrar linhas onde 'Code' não está presente em df_iso['alpha-3']\n",
    "    dfs[f'sub_df_{i}'] = dfs[f'df_{i}'][~dfs[f'df_{i}']['Code'].isin(df_iso['alpha-3'].str.upper())].reset_index(drop=True)\n",
    "    \n",
    "    # Filtrar linhas onde 'Code' está presente em df_iso['alpha-3'] e guardar num novo DataFrame\n",
    "    dfs[f'df_{i}'] = dfs[f'df_{i}'][dfs[f'df_{i}']['Code'].isin(df_iso['alpha-3'])].reset_index(drop=True)\n",
    "    \n",
    "    # Guardar o DataFrame como ficheiro CSV com um nome correspondente ao índice\n",
    "    dfs[f'df_{i}'].to_csv(f'data/clean_data/df_{i}.csv', index=False)\n",
    "    dfs[f'sub_df_{i}'].to_csv(f'data/clean_data/sub_df_{i}.csv', index=False)\n"
   ]
  },
  {
   "cell_type": "markdown",
   "metadata": {},
   "source": [
    "#### 2.3. Análise exploratória"
   ]
  },
  {
   "cell_type": "markdown",
   "metadata": {},
   "source": [
    "Nesta secção, optou-se por criar um conjunto de gráficos e tabelas que permitissem uma melhor compreensão do dataset, bem como encontrar relações entre as diversas variáveis."
   ]
  },
  {
   "cell_type": "markdown",
   "metadata": {},
   "source": [
    "##### Dataframes limpos"
   ]
  },
  {
   "cell_type": "code",
   "execution_count": 440,
   "metadata": {},
   "outputs": [],
   "source": [
    "# Carregar o ficheiro CSV 'df_0.csv' localizado em 'data/clean_data/' para um DataFrame chamado df_0\n",
    "data_df_0 = pd.read_csv('data/clean_data/df_0.csv')\n",
    "df_0 = pd.DataFrame(data_df_0)\n",
    "\n",
    "# Carregar o ficheiro CSV 'df_1.csv' localizado em 'data/clean_data/' para um DataFrame chamado df_1\n",
    "data_df_1 = pd.read_csv('data/clean_data/df_1.csv')\n",
    "df_1 = pd.DataFrame(data_df_1)\n",
    "\n",
    "# Carregar o ficheiro CSV 'sub_df_1.csv' localizado em 'data/clean_data/' para um DataFrame chamado sub_df_1\n",
    "data_sub_df_1 = pd.read_csv('data/clean_data/sub_df_1.csv')\n",
    "sub_df_1 = pd.DataFrame(data_sub_df_1)\n",
    "\n",
    "# Carregar o ficheiro CSV 'df_2.csv' localizado em 'data/clean_data/' para um DataFrame chamado df_2\n",
    "data_df_2 = pd.read_csv('data/clean_data/df_2.csv')\n",
    "df_2 = pd.DataFrame(data_df_2)\n",
    "\n",
    "# Carregar o ficheiro CSV 'df_3.csv' localizado em 'data/clean_data/' para um DataFrame chamado df_3\n",
    "data_df_3 = pd.read_csv('data/clean_data/df_3.csv')\n",
    "df_3 = pd.DataFrame(data_df_3)"
   ]
  },
  {
   "cell_type": "markdown",
   "metadata": {},
   "source": [
    "##### 2.3.1. Gráficos"
   ]
  },
  {
   "cell_type": "markdown",
   "metadata": {},
   "source": [
    "A. Mapa do mundo com estatísticas para a depressão ao longo do tempo"
   ]
  },
  {
   "cell_type": "code",
   "execution_count": 441,
   "metadata": {},
   "outputs": [],
   "source": [
    "import plotly.express as px\n",
    "\n",
    "def mapa():\n",
    "    # Criar um gráfico de mapa de choropleth utilizando o Plotly Express\n",
    "    fig = px.choropleth(df_0,  # DataFrame de dados\n",
    "                        locations='Code',  # Coluna do DataFrame que contém os códigos de localização\n",
    "                        color='Depression (%)',  # Coluna do DataFrame que contém os valores para atribuir cor\n",
    "                        scope=\"world\",  # Scope geográfico do mapa (neste caso, mundial)\n",
    "                        hover_name='Entity',  # Coluna do DataFrame usada para rótulos ao passar o rato sobre as áreas\n",
    "                        color_continuous_scale=px.colors.sequential.Plasma,  # Esquema de cores contínuas\n",
    "                        animation_frame='Year',  # Coluna do DataFrame usada para a animação ao longo do tempo\n",
    "                        animation_group='Entity')  # Coluna do DataFrame usada para agrupar áreas durante a animação\n",
    "\n",
    "    # Atualizar o layout do gráfico\n",
    "    fig.update_layout(\n",
    "        title=f\"Mapa Mundial da Depressão (%) ao longo dos anos\",\n",
    "        font=dict(family=\"Arial\", size=12),\n",
    "        margin=dict(l=5, r=5, t=50, b=5),\n",
    "        coloraxis=dict(cmin=df_0['Depression (%)'].min(), cmax=df_0['Depression (%)'].max()),  # Configurar os limites da escala de cores\n",
    "        height=700\n",
    "    )\n",
    "    \n",
    "    # Atualizar as configurações geográficas para ajustar os limites de exibição\n",
    "    fig.update_geos(fitbounds=\"locations\", visible=False)\n",
    "    \n",
    "    # Exibir o gráfico\n",
    "    fig.show()\n"
   ]
  },
  {
   "cell_type": "markdown",
   "metadata": {},
   "source": [
    "B.  Gráfico da relação da Taxa de Depressão com a Taxa de Suicídio no mundo"
   ]
  },
  {
   "cell_type": "code",
   "execution_count": 442,
   "metadata": {},
   "outputs": [],
   "source": [
    "def bolhas():\n",
    "    # Criar um gráfico de dispersão com bolhas utilizando o Plotly Express\n",
    "    fig = px.scatter(\n",
    "        df_2,  # DataFrame de dados\n",
    "        x=\"Depressive disorder rates (number suffering per 100,000)\",  # Eixo x: Taxa de transtorno depressivo\n",
    "        y=\"Suicide rate (deaths per 100,000 individuals)\",  # Eixo y: Taxa de suicídio\n",
    "        animation_frame=\"Year\",  # Coluna do DataFrame usada para a animação ao longo do tempo\n",
    "        animation_group=\"Entity\",  # Coluna do DataFrame usada para agrupar pontos durante a animação\n",
    "        size=\"Population\",  # Tamanho das bolhas baseado na coluna 'Population'\n",
    "        color=\"Continent\",  # Cor das bolhas baseada na coluna 'Continent'\n",
    "        hover_name=\"Entity\",  # Rótulo ao passar o rato sobre as bolhas\n",
    "        facet_col=\"Continent\",  # Criar subgráficos separados por continente\n",
    "        log_x=True,  # Usar escala logarítmica no eixo x\n",
    "        size_max=50,  # Tamanho máximo das bolhas\n",
    "        range_x=[2000, 6000],  # Faixa de valores no eixo x\n",
    "        range_y=[0, 60]  # Faixa de valores no eixo y\n",
    "    )\n",
    "\n",
    "    # Atualizar os eixos x\n",
    "    fig.update_xaxes(\n",
    "        tickangle=90,  # Ângulo de inclinação dos rótulos no eixo x\n",
    "        title_text=\"Taxa de Transtorno Depressivo\",  # Título do eixo x\n",
    "        title_font={\"size\": 12},  # Tamanho da fonte do título do eixo x\n",
    "        title_standoff=25  # Distância entre o título e o eixo x\n",
    "    )\n",
    "\n",
    "    # Atualizar o layout do gráfico\n",
    "    fig.update_layout(\n",
    "        title=dict(text=\"Gráfico ilustrando a relação global entre Taxas de Depressão e Suicídio\", font=dict(size=20), yref='paper')  # Título do gráfico\n",
    "    )\n",
    "\n",
    "    # Exibir o gráfico\n",
    "    fig.show()"
   ]
  },
  {
   "cell_type": "markdown",
   "metadata": {},
   "source": [
    "C. Gráfico de barras com a Pervalência de Depressão em homens e mulheres no mundo (Top 20)"
   ]
  },
  {
   "cell_type": "code",
   "execution_count": 443,
   "metadata": {},
   "outputs": [],
   "source": [
    "def barras():\n",
    "    # Criar uma figura e eixo com um tamanho específico\n",
    "    fig, ax = plt.subplots(figsize=(6, 6))\n",
    "    \n",
    "    # Entrada para o ano\n",
    "    year = int(input('Ano: '))\n",
    "    \n",
    "    # Filtrar dados para o ano especificado\n",
    "    data_year = df_1[df_1['Year'] == year]\n",
    "    \n",
    "    # Calcular a prevalência média para homens e mulheres\n",
    "    data_year['Média da Prevalência'] = (data_year['Prevalence in males (%)'] + data_year['Prevalence in females (%)']) / 2\n",
    "    \n",
    "    # Ordenar por prevalência média em ordem decrescente\n",
    "    data_year = data_year.sort_values(by='Média da Prevalência', ascending=False).head(20)\n",
    "    \n",
    "    # Criar gráficos de barras para homens e mulheres separadamente\n",
    "    bar_height = 0.8 \n",
    "    ax.barh(data_year['Entity'], data_year['Prevalence in males (%)'], height=bar_height, color='blue', alpha=0.3, label='Homens')\n",
    "    ax.barh(data_year['Entity'], data_year['Prevalence in females (%)'], left=data_year['Prevalence in males (%)'], height=bar_height, color='darkorange', alpha=0.3, label='Mulheres')\n",
    "    \n",
    "    # Adicionar rótulos de percentagem para homens\n",
    "    for i, valor in enumerate(data_year['Prevalence in males (%)']):\n",
    "        ax.text(valor, i, f'{valor:.2f}%', ha='right', va='center', color='blue', fontweight='bold')\n",
    "    \n",
    "    # Adicionar rótulos de percentagem para mulheres\n",
    "    for i, valor in enumerate(data_year['Prevalence in females (%)']):\n",
    "        ax.text(valor, i, f'{valor:.2f}%', ha='left', va='center', color='darkorange', fontweight='bold')\n",
    "    \n",
    "    # Adicionar uma barra para o mundo\n",
    "    world_values = sub_df_1[(sub_df_1['Entity'] == 'World') & (sub_df_1['Year'] == year)]\n",
    "    world_male_value = world_values['Prevalence in males (%)'].values[0]\n",
    "    world_female_value = world_values['Prevalence in females (%)'].values[0]\n",
    "    ax.barh('Mundo',world_male_value, height=bar_height, color='#00E676', alpha=0.3, label='Mundo Homens')\n",
    "    ax.barh('Mundo', world_female_value, left=world_male_value, height=bar_height, color='#CDDC39', alpha=0.3, label='Mundo Mulheres')\n",
    "\n",
    "    # Adicionar rótulos de percentagem para o mundo\n",
    "    ax.text(world_male_value, len(data_year), f'{world_male_value:.2f}%', ha='right', va='center', color='#00E676', fontweight='bold')\n",
    "    ax.text(world_female_value, len(data_year), f'{world_female_value:.2f}%', ha='left', va='center', color='#CDDC39', fontweight='bold')\n",
    "\n",
    "    # Adicionar um título e rótulos aos eixos\n",
    "    ax.set_title(f'Prevalência de depressão em homens e mulheres para o ano {year}', weight='bold')\n",
    "    ax.set_xlabel('Prevalência (%)')\n",
    "    ax.set_ylabel('País')\n",
    "    \n",
    "    # Inverter o eixo y para ter barras maiores no topo\n",
    "    ax.invert_yaxis()\n",
    "    \n",
    "    # Exibir a legenda\n",
    "    ax.legend()\n",
    "    \n",
    "    # Exibir o gráfico\n",
    "    plt.show()\n",
    "    \n",
    "    # Limpar a tela\n",
    "    clear_screen()\n",
    "    \n",
    "    # Retornar True para indicar que a tabela foi chamada\n",
    "    return True\n",
    "\n"
   ]
  },
  {
   "cell_type": "markdown",
   "metadata": {},
   "source": [
    "D. Evolução das doenças mentais ao longo dos anos"
   ]
  },
  {
   "cell_type": "code",
   "execution_count": 444,
   "metadata": {},
   "outputs": [],
   "source": [
    "def linhas():\n",
    "    # Solicitar o país\n",
    "    country = input('Qual o país: ').capitalize()\n",
    "    selected_country = df_0[df_0['Entity'] == country]\n",
    "\n",
    "    # Ajustar o tamanho dos subplots\n",
    "    fig = sp.make_subplots(rows=selected_country.columns[5:11].shape[0], cols=1, subplot_titles=selected_country.columns[5:11],\n",
    "                           shared_xaxes=True, vertical_spacing=0.02)\n",
    "\n",
    "    # Adicionar linhas para cada subplot\n",
    "    for i, col in enumerate(selected_country.columns[5:11], start=1):\n",
    "        fig.add_trace(go.Scatter(x=selected_country[\"Year\"], y=selected_country[col], mode='lines', name=col),\n",
    "                      row=i, col=1)\n",
    "\n",
    "    # Atualizar layout\n",
    "    fig.update_layout(height=selected_country.columns[5:11].shape[0] * 200, title_text='Evolution of the main mental health issues over the years',\n",
    "                      showlegend=False)\n",
    "\n",
    "    # Definir dtick para cada gráfico\n",
    "    dtick_values = [0.001, 0.02, 0.01, 0.01, 0.1, 0.02]  # Precisa de ser otimizado\n",
    "\n",
    "    for i in range(1, selected_country.columns[5:11].shape[0] + 1):\n",
    "        fig.update_yaxes(tickmode='linear', dtick=dtick_values[i-1], row=i, col=1, showgrid=False)\n",
    "\n",
    "    # Atualizar eixos\n",
    "    fig.update_xaxes(dtick=\"M1\", tickformat=\"%Y\", ticklabelmode=\"period\")\n",
    "\n",
    "    # Mostrar o gráfico\n",
    "    fig.show()\n"
   ]
  },
  {
   "cell_type": "markdown",
   "metadata": {},
   "source": [
    "##### 2.3.2. Tabelas"
   ]
  },
  {
   "cell_type": "markdown",
   "metadata": {},
   "source": [
    "A. DF0: Tabela Saúde Mental"
   ]
  },
  {
   "cell_type": "code",
   "execution_count": 445,
   "metadata": {},
   "outputs": [],
   "source": [
    "def tabela1():\n",
    "    # Solicitar o país\n",
    "    country = input('Qual o país: ').capitalize()\n",
    "    \n",
    "    # Imprimir o nome do país\n",
    "    print(\"=\" * len(country), country, \"=\" * len(country), sep=\"\\n\")\n",
    "    \n",
    "    # Imprimir a tabela usando o tabulate\n",
    "    print(tabulate(df_0[df_0['Entity'] == country], headers=df_0.columns))\n",
    "    \n",
    "    # Aguardar que o utilizador pressione de Enter para continuar\n",
    "    input(\"Pressione Enter para continuar...\")\n",
    "    \n",
    "    # Limpar a tela após pressionar Enter\n",
    "    clear_screen()\n",
    "    \n",
    "    # Retornar True para indicar que a tabela foi chamada\n",
    "    return True"
   ]
  },
  {
   "cell_type": "markdown",
   "metadata": {},
   "source": [
    "B. DF1: Depressão em Homens e Mulheres (%) "
   ]
  },
  {
   "cell_type": "code",
   "execution_count": 446,
   "metadata": {},
   "outputs": [],
   "source": [
    "def tabela2():\n",
    "    # Solicitar o país\n",
    "    country = input('Qual o país: ').capitalize()\n",
    "    \n",
    "    # Imprimir o nome do país\n",
    "    print(\"=\" * len(country), country, \"=\" * len(country), sep=\"\\n\")\n",
    "    \n",
    "    # Imprimir a tabela usando o tabulate\n",
    "    print(tabulate(df_1[df_1['Entity'] == country], headers=df_1.columns))\n",
    "    \n",
    "    # Aguardar que o utilizador pressione de Enter para continuar\n",
    "    input(\"Pressione Enter para continuar...\")\n",
    "    \n",
    "    # Limpar a tela após pressionar Enter\n",
    "    clear_screen()\n",
    "    \n",
    "    # Retornar True para indicar que a tabela foi chamada\n",
    "    return True"
   ]
  },
  {
   "cell_type": "markdown",
   "metadata": {},
   "source": [
    "C. Suicídio e Depressão na População"
   ]
  },
  {
   "cell_type": "code",
   "execution_count": 447,
   "metadata": {},
   "outputs": [],
   "source": [
    "def tabela3():\n",
    "    # Solicitar o país\n",
    "    country = input('Qual o país: ').capitalize()\n",
    "    \n",
    "    # Imprimir o nome do país\n",
    "    print(\"=\" * len(country), country, \"=\" * len(country), sep=\"\\n\")\n",
    "    \n",
    "    # Imprimir a tabela usando o tabulate\n",
    "    print(tabulate(df_2[df_2['Entity'] == country], headers=df_2.columns))\n",
    "    \n",
    "    # Aguardar que o utilizador pressione de Enter para continuar\n",
    "    input(\"Pressione Enter para continuar...\")\n",
    "    \n",
    "    # Limpar a tela após pressionar Enter\n",
    "    clear_screen()\n",
    "    \n",
    "    # Retornar True para indicar que a tabela foi chamada\n",
    "    return True"
   ]
  },
  {
   "cell_type": "markdown",
   "metadata": {},
   "source": [
    "D. DF3: Depressão na População"
   ]
  },
  {
   "cell_type": "code",
   "execution_count": 448,
   "metadata": {},
   "outputs": [],
   "source": [
    "def tabela4():\n",
    "    # Solicitar o país\n",
    "    country = input('Qual o país: ').capitalize()\n",
    "    \n",
    "    # Imprimir o nome do país\n",
    "    print(\"=\" * len(country), country, \"=\" * len(country), sep=\"\\n\")\n",
    "    \n",
    "    # Imprimir a tabela usando o tabulate\n",
    "    print(tabulate(df_3[df_3['Entity'] == country], headers=df_3.columns))\n",
    "    \n",
    "    # Aguardar que o utilizador pressione de Enter para continuar\n",
    "    input(\"Pressione Enter para continuar...\")\n",
    "    \n",
    "    # Limpar a tela após pressionar Enter\n",
    "    clear_screen()\n",
    "    \n",
    "    # Retornar True para indicar que a tabela foi chamada\n",
    "    return True"
   ]
  },
  {
   "cell_type": "markdown",
   "metadata": {},
   "source": [
    "#### 2.4. Configuração do menu e função principal"
   ]
  },
  {
   "cell_type": "markdown",
   "metadata": {},
   "source": [
    "##### 2.4.1. Menu"
   ]
  },
  {
   "cell_type": "code",
   "execution_count": 449,
   "metadata": {},
   "outputs": [],
   "source": [
    "def clear_screen():\n",
    "    os.system('cls' if os.name == 'nt' else 'clear')"
   ]
  },
  {
   "cell_type": "code",
   "execution_count": 450,
   "metadata": {},
   "outputs": [],
   "source": [
    "def menu(titulo, opcoes):\n",
    "    clear_flag = True  # Flag inicial para limpar a tela\n",
    "\n",
    "    while True: # Inicia um loop infinito para manter o menu em execução até que o utilizador escolha a opção de sair.\n",
    "        if clear_flag: # Verifica se a flag para limpar a tela está ativa.\n",
    "            clear_screen()\n",
    "\n",
    "        # Apresentação do cabeçalho do projeto\n",
    "        print(\"=\" * len('PROJETO DE PROGRAMAÇÃO E ALGORITMOS EM CIÊNCIAS'), 'PROJETO DE PROGRAMAÇÃO E ALGORITMOS EM CIÊNCIAS\\n\\nPedro Venâncio, nº88226\\nMestrado em Bioinformática Clínica\\n', sep=\"\\n\")\n",
    "        print(\"=\" * len(titulo), titulo, \"=\" * len(titulo), sep=\"\\n\")\n",
    "\n",
    "        # Apresentação das opções do menu\n",
    "        for i, (opcao, funcao) in enumerate(opcoes, 1): # Itera sobre as opções do menu com um índice começado em 1\n",
    "            print(\"[{}] - {}\".format(i, opcao)) # Apresenta cada opção numerada\n",
    "        print(\"[{}] - Voltar/Sair\".format(i + 1)) # Apresenta a opção para voltar ou sair do menu.\n",
    "        op = input(\"Opção: \") # Solicita a entrada do utilizador\n",
    "\n",
    "        # Verificação se a entrada é um número válido\n",
    "        if op.isdigit():\n",
    "            if 1 <= int(op) <= i + 1:\n",
    "                if int(op) == i + 1:\n",
    "                    # Encerra este menu e retorna à função anterior\n",
    "                    break\n",
    "                if int(op) <= len(opcoes):\n",
    "                    # Chama a função associada à opção escolhida\n",
    "                    clear_flag = opcoes[int(op) - 1][1]()\n",
    "                    continue\n",
    "\n",
    "        # Mensagem de erro para entrada inválida\n",
    "        print(\"Opção inválida. \\n\\n\")\n",
    "        clear_flag = True\n",
    "\n",
    "    return clear_flag\n"
   ]
  },
  {
   "cell_type": "markdown",
   "metadata": {},
   "source": [
    "##### 2.4.2. Função para aceder aos gráficos no menu"
   ]
  },
  {
   "cell_type": "code",
   "execution_count": 451,
   "metadata": {},
   "outputs": [],
   "source": [
    "def graficos():\n",
    "    # Lista de opções para o menu de gráficos, cada opção é um tuplo contendo o nome do gráfico e a função associada\n",
    "    opcoes = [\n",
    "        (\"Mapa do mundo com estatísticas para a depressão ao longo do tempo\", mapa),\n",
    "        (\"Gráfico da relação da Taxa de Depressão com a Taxa de Suicídio no mundo\", bolhas),\n",
    "        (\"Gráfico de barras com a prevalência de depressão em homens e mulheres\", barras),\n",
    "        (\"Gráfico de linhas com a evolução dos principais problemas de saúde mental ao longo dos anos\", linhas)\n",
    "    ]\n",
    "\n",
    "    # Chama a função do menu e passa o título 'Gráficos' e a lista de opções\n",
    "    return menu('Gráficos', opcoes)\n"
   ]
  },
  {
   "cell_type": "markdown",
   "metadata": {},
   "source": [
    "##### 2.4.3. Função para aceder às tabelas no menu"
   ]
  },
  {
   "cell_type": "code",
   "execution_count": 452,
   "metadata": {},
   "outputs": [],
   "source": [
    "def tabelas():\n",
    "    # Lista de opções para o menu de tabelas, cada opção é um tuplo contendo o nome da tabela e a função associada\n",
    "    opcoes = [\n",
    "        (\"DF0: Tabela Saúde Mental\", tabela1),\n",
    "        (\"DF1: Depressão em Homens e Mulheres (%)\", tabela2),\n",
    "        (\"DF2: Suicídio e Depressão na População\", tabela3),\n",
    "        (\"DF3: Depressão na População\", tabela4)\n",
    "    ]\n",
    "\n",
    "    # Chama a função do menu e passa o título 'Tabelas' e a lista de opções\n",
    "    return menu('Tabelas', opcoes)\n"
   ]
  },
  {
   "cell_type": "markdown",
   "metadata": {},
   "source": [
    "##### 2.4.4. Função principal"
   ]
  },
  {
   "cell_type": "code",
   "execution_count": 453,
   "metadata": {},
   "outputs": [
    {
     "name": "stdout",
     "output_type": "stream",
     "text": [
      "\u001b[H\u001b[2J===============================================\n",
      "PROJETO DE PROGRAMAÇÃO E ALGORITMOS EM CIÊNCIAS\n",
      "\n",
      "Pedro Venâncio, nº88226\n",
      "Mestrado em Bioinformática Clínica\n",
      "\n",
      "=============================================\n",
      "Tendências globais em matéria de saúde mental\n",
      "=============================================\n",
      "[1] - Gráficos\n",
      "[2] - Tabelas\n",
      "[3] - Voltar/Sair\n",
      "\u001b[H\u001b[2J===============================================\n",
      "PROJETO DE PROGRAMAÇÃO E ALGORITMOS EM CIÊNCIAS\n",
      "\n",
      "Pedro Venâncio, nº88226\n",
      "Mestrado em Bioinformática Clínica\n",
      "\n",
      "========\n",
      "Gráficos\n",
      "========\n",
      "[1] - Mapa do mundo com estatísticas para a depressão ao longo do tempo\n",
      "[2] - Gráfico da relação da Taxa de Depressão com a Taxa de Suicídio no mundo\n",
      "[3] - Gráfico de barras com a prevalência de depressão em homens e mulheres\n",
      "[4] - Gráfico de linhas com a evolução dos principais problemas de saúde mental ao longo dos anos\n",
      "[5] - Voltar/Sair\n"
     ]
    },
    {
     "data": {
      "application/vnd.plotly.v1+json": {
       "config": {
        "plotlyServerURL": "https://plot.ly"
       },
       "data": [
        {
         "mode": "lines",
         "name": "Bipolar disorder (%)",
         "type": "scatter",
         "x": [
          1990,
          1991,
          1992,
          1993,
          1994,
          1995,
          1996,
          1997,
          1998,
          1999,
          2000,
          2001,
          2002,
          2003,
          2004,
          2005,
          2006,
          2007,
          2008,
          2009,
          2010,
          2011,
          2012,
          2013,
          2014,
          2015,
          2016,
          2017
         ],
         "xaxis": "x",
         "y": [
          0.921896,
          0.922922,
          0.923879,
          0.9247,
          0.925318,
          0.925712,
          0.925957,
          0.926224,
          0.926487,
          0.92667,
          0.926881,
          0.926252,
          0.924605,
          0.922649,
          0.921038,
          0.920503,
          0.920982,
          0.921734,
          0.9226,
          0.923296,
          0.923709,
          0.923906,
          0.924146,
          0.924423,
          0.924747,
          0.925073,
          0.925408,
          0.925815
         ],
         "yaxis": "y"
        },
        {
         "mode": "lines",
         "name": "Eating disorders (%)",
         "type": "scatter",
         "x": [
          1990,
          1991,
          1992,
          1993,
          1994,
          1995,
          1996,
          1997,
          1998,
          1999,
          2000,
          2001,
          2002,
          2003,
          2004,
          2005,
          2006,
          2007,
          2008,
          2009,
          2010,
          2011,
          2012,
          2013,
          2014,
          2015,
          2016,
          2017
         ],
         "xaxis": "x2",
         "y": [
          0.407389,
          0.412269,
          0.417645,
          0.423009,
          0.42754,
          0.432339,
          0.438741,
          0.445821,
          0.453441,
          0.460298,
          0.465799,
          0.469683,
          0.47356,
          0.47712,
          0.480292,
          0.484077,
          0.487375,
          0.491157,
          0.495106,
          0.49907,
          0.501449,
          0.503632,
          0.505364,
          0.506904,
          0.508989,
          0.510327,
          0.512185,
          0.513079
         ],
         "yaxis": "y2"
        },
        {
         "mode": "lines",
         "name": "Anxiety disorders (%)",
         "type": "scatter",
         "x": [
          1990,
          1991,
          1992,
          1993,
          1994,
          1995,
          1996,
          1997,
          1998,
          1999,
          2000,
          2001,
          2002,
          2003,
          2004,
          2005,
          2006,
          2007,
          2008,
          2009,
          2010,
          2011,
          2012,
          2013,
          2014,
          2015,
          2016,
          2017
         ],
         "xaxis": "x3",
         "y": [
          5.330111,
          5.335576,
          5.340536,
          5.344532,
          5.347208,
          5.348533,
          5.349101,
          5.349818,
          5.350532,
          5.350991,
          5.351684,
          5.35148,
          5.350923,
          5.35053,
          5.350485,
          5.351409,
          5.354362,
          5.358942,
          5.364204,
          5.368501,
          5.371129,
          5.372365,
          5.373829,
          5.375392,
          5.377254,
          5.37913,
          5.380981,
          5.383261
         ],
         "yaxis": "y3"
        },
        {
         "mode": "lines",
         "name": "Drug use disorders (%)",
         "type": "scatter",
         "x": [
          1990,
          1991,
          1992,
          1993,
          1994,
          1995,
          1996,
          1997,
          1998,
          1999,
          2000,
          2001,
          2002,
          2003,
          2004,
          2005,
          2006,
          2007,
          2008,
          2009,
          2010,
          2011,
          2012,
          2013,
          2014,
          2015,
          2016,
          2017
         ],
         "xaxis": "x4",
         "y": [
          0.674613,
          0.673506,
          0.673652,
          0.674726,
          0.675491,
          0.67709,
          0.681905,
          0.690576,
          0.6997,
          0.708142,
          0.712897,
          0.714561,
          0.713759,
          0.712051,
          0.70967,
          0.706347,
          0.699766,
          0.690426,
          0.680296,
          0.672078,
          0.669327,
          0.671262,
          0.673695,
          0.67753,
          0.683347,
          0.690379,
          0.699273,
          0.709413
         ],
         "yaxis": "y4"
        },
        {
         "mode": "lines",
         "name": "Depression (%)",
         "type": "scatter",
         "x": [
          1990,
          1991,
          1992,
          1993,
          1994,
          1995,
          1996,
          1997,
          1998,
          1999,
          2000,
          2001,
          2002,
          2003,
          2004,
          2005,
          2006,
          2007,
          2008,
          2009,
          2010,
          2011,
          2012,
          2013,
          2014,
          2015,
          2016,
          2017
         ],
         "xaxis": "x5",
         "y": [
          4.7484,
          4.729642,
          4.716369,
          4.702669,
          4.690671,
          4.679851,
          4.671298,
          4.667101,
          4.664418,
          4.663462,
          4.663838,
          4.680431,
          4.71645,
          4.759833,
          4.796305,
          4.808875,
          4.80553,
          4.803936,
          4.795229,
          4.786921,
          4.774924,
          4.7539,
          4.718802,
          4.675021,
          4.622827,
          4.561403,
          4.494714,
          4.421461
         ],
         "yaxis": "y5"
        },
        {
         "mode": "lines",
         "name": "Alcohol use disorders (%)",
         "type": "scatter",
         "x": [
          1990,
          1991,
          1992,
          1993,
          1994,
          1995,
          1996,
          1997,
          1998,
          1999,
          2000,
          2001,
          2002,
          2003,
          2004,
          2005,
          2006,
          2007,
          2008,
          2009,
          2010,
          2011,
          2012,
          2013,
          2014,
          2015,
          2016,
          2017
         ],
         "xaxis": "x6",
         "y": [
          1.162573,
          1.164669,
          1.168727,
          1.174235,
          1.180769,
          1.187652,
          1.199356,
          1.217821,
          1.23878,
          1.257797,
          1.270691,
          1.278205,
          1.284094,
          1.288625,
          1.291815,
          1.293694,
          1.294957,
          1.296047,
          1.296875,
          1.296957,
          1.296311,
          1.294469,
          1.291525,
          1.287392,
          1.282311,
          1.276458,
          1.269966,
          1.262905
         ],
         "yaxis": "y6"
        }
       ],
       "layout": {
        "annotations": [
         {
          "font": {
           "size": 16
          },
          "showarrow": false,
          "text": "Bipolar disorder (%)",
          "x": 0.5,
          "xanchor": "center",
          "xref": "paper",
          "y": 1,
          "yanchor": "bottom",
          "yref": "paper"
         },
         {
          "font": {
           "size": 16
          },
          "showarrow": false,
          "text": "Eating disorders (%)",
          "x": 0.5,
          "xanchor": "center",
          "xref": "paper",
          "y": 0.83,
          "yanchor": "bottom",
          "yref": "paper"
         },
         {
          "font": {
           "size": 16
          },
          "showarrow": false,
          "text": "Anxiety disorders (%)",
          "x": 0.5,
          "xanchor": "center",
          "xref": "paper",
          "y": 0.66,
          "yanchor": "bottom",
          "yref": "paper"
         },
         {
          "font": {
           "size": 16
          },
          "showarrow": false,
          "text": "Drug use disorders (%)",
          "x": 0.5,
          "xanchor": "center",
          "xref": "paper",
          "y": 0.49,
          "yanchor": "bottom",
          "yref": "paper"
         },
         {
          "font": {
           "size": 16
          },
          "showarrow": false,
          "text": "Depression (%)",
          "x": 0.5,
          "xanchor": "center",
          "xref": "paper",
          "y": 0.31999999999999995,
          "yanchor": "bottom",
          "yref": "paper"
         },
         {
          "font": {
           "size": 16
          },
          "showarrow": false,
          "text": "Alcohol use disorders (%)",
          "x": 0.5,
          "xanchor": "center",
          "xref": "paper",
          "y": 0.15,
          "yanchor": "bottom",
          "yref": "paper"
         }
        ],
        "height": 1200,
        "showlegend": false,
        "template": {
         "data": {
          "bar": [
           {
            "error_x": {
             "color": "#2a3f5f"
            },
            "error_y": {
             "color": "#2a3f5f"
            },
            "marker": {
             "line": {
              "color": "#E5ECF6",
              "width": 0.5
             },
             "pattern": {
              "fillmode": "overlay",
              "size": 10,
              "solidity": 0.2
             }
            },
            "type": "bar"
           }
          ],
          "barpolar": [
           {
            "marker": {
             "line": {
              "color": "#E5ECF6",
              "width": 0.5
             },
             "pattern": {
              "fillmode": "overlay",
              "size": 10,
              "solidity": 0.2
             }
            },
            "type": "barpolar"
           }
          ],
          "carpet": [
           {
            "aaxis": {
             "endlinecolor": "#2a3f5f",
             "gridcolor": "white",
             "linecolor": "white",
             "minorgridcolor": "white",
             "startlinecolor": "#2a3f5f"
            },
            "baxis": {
             "endlinecolor": "#2a3f5f",
             "gridcolor": "white",
             "linecolor": "white",
             "minorgridcolor": "white",
             "startlinecolor": "#2a3f5f"
            },
            "type": "carpet"
           }
          ],
          "choropleth": [
           {
            "colorbar": {
             "outlinewidth": 0,
             "ticks": ""
            },
            "type": "choropleth"
           }
          ],
          "contour": [
           {
            "colorbar": {
             "outlinewidth": 0,
             "ticks": ""
            },
            "colorscale": [
             [
              0,
              "#0d0887"
             ],
             [
              0.1111111111111111,
              "#46039f"
             ],
             [
              0.2222222222222222,
              "#7201a8"
             ],
             [
              0.3333333333333333,
              "#9c179e"
             ],
             [
              0.4444444444444444,
              "#bd3786"
             ],
             [
              0.5555555555555556,
              "#d8576b"
             ],
             [
              0.6666666666666666,
              "#ed7953"
             ],
             [
              0.7777777777777778,
              "#fb9f3a"
             ],
             [
              0.8888888888888888,
              "#fdca26"
             ],
             [
              1,
              "#f0f921"
             ]
            ],
            "type": "contour"
           }
          ],
          "contourcarpet": [
           {
            "colorbar": {
             "outlinewidth": 0,
             "ticks": ""
            },
            "type": "contourcarpet"
           }
          ],
          "heatmap": [
           {
            "colorbar": {
             "outlinewidth": 0,
             "ticks": ""
            },
            "colorscale": [
             [
              0,
              "#0d0887"
             ],
             [
              0.1111111111111111,
              "#46039f"
             ],
             [
              0.2222222222222222,
              "#7201a8"
             ],
             [
              0.3333333333333333,
              "#9c179e"
             ],
             [
              0.4444444444444444,
              "#bd3786"
             ],
             [
              0.5555555555555556,
              "#d8576b"
             ],
             [
              0.6666666666666666,
              "#ed7953"
             ],
             [
              0.7777777777777778,
              "#fb9f3a"
             ],
             [
              0.8888888888888888,
              "#fdca26"
             ],
             [
              1,
              "#f0f921"
             ]
            ],
            "type": "heatmap"
           }
          ],
          "heatmapgl": [
           {
            "colorbar": {
             "outlinewidth": 0,
             "ticks": ""
            },
            "colorscale": [
             [
              0,
              "#0d0887"
             ],
             [
              0.1111111111111111,
              "#46039f"
             ],
             [
              0.2222222222222222,
              "#7201a8"
             ],
             [
              0.3333333333333333,
              "#9c179e"
             ],
             [
              0.4444444444444444,
              "#bd3786"
             ],
             [
              0.5555555555555556,
              "#d8576b"
             ],
             [
              0.6666666666666666,
              "#ed7953"
             ],
             [
              0.7777777777777778,
              "#fb9f3a"
             ],
             [
              0.8888888888888888,
              "#fdca26"
             ],
             [
              1,
              "#f0f921"
             ]
            ],
            "type": "heatmapgl"
           }
          ],
          "histogram": [
           {
            "marker": {
             "pattern": {
              "fillmode": "overlay",
              "size": 10,
              "solidity": 0.2
             }
            },
            "type": "histogram"
           }
          ],
          "histogram2d": [
           {
            "colorbar": {
             "outlinewidth": 0,
             "ticks": ""
            },
            "colorscale": [
             [
              0,
              "#0d0887"
             ],
             [
              0.1111111111111111,
              "#46039f"
             ],
             [
              0.2222222222222222,
              "#7201a8"
             ],
             [
              0.3333333333333333,
              "#9c179e"
             ],
             [
              0.4444444444444444,
              "#bd3786"
             ],
             [
              0.5555555555555556,
              "#d8576b"
             ],
             [
              0.6666666666666666,
              "#ed7953"
             ],
             [
              0.7777777777777778,
              "#fb9f3a"
             ],
             [
              0.8888888888888888,
              "#fdca26"
             ],
             [
              1,
              "#f0f921"
             ]
            ],
            "type": "histogram2d"
           }
          ],
          "histogram2dcontour": [
           {
            "colorbar": {
             "outlinewidth": 0,
             "ticks": ""
            },
            "colorscale": [
             [
              0,
              "#0d0887"
             ],
             [
              0.1111111111111111,
              "#46039f"
             ],
             [
              0.2222222222222222,
              "#7201a8"
             ],
             [
              0.3333333333333333,
              "#9c179e"
             ],
             [
              0.4444444444444444,
              "#bd3786"
             ],
             [
              0.5555555555555556,
              "#d8576b"
             ],
             [
              0.6666666666666666,
              "#ed7953"
             ],
             [
              0.7777777777777778,
              "#fb9f3a"
             ],
             [
              0.8888888888888888,
              "#fdca26"
             ],
             [
              1,
              "#f0f921"
             ]
            ],
            "type": "histogram2dcontour"
           }
          ],
          "mesh3d": [
           {
            "colorbar": {
             "outlinewidth": 0,
             "ticks": ""
            },
            "type": "mesh3d"
           }
          ],
          "parcoords": [
           {
            "line": {
             "colorbar": {
              "outlinewidth": 0,
              "ticks": ""
             }
            },
            "type": "parcoords"
           }
          ],
          "pie": [
           {
            "automargin": true,
            "type": "pie"
           }
          ],
          "scatter": [
           {
            "fillpattern": {
             "fillmode": "overlay",
             "size": 10,
             "solidity": 0.2
            },
            "type": "scatter"
           }
          ],
          "scatter3d": [
           {
            "line": {
             "colorbar": {
              "outlinewidth": 0,
              "ticks": ""
             }
            },
            "marker": {
             "colorbar": {
              "outlinewidth": 0,
              "ticks": ""
             }
            },
            "type": "scatter3d"
           }
          ],
          "scattercarpet": [
           {
            "marker": {
             "colorbar": {
              "outlinewidth": 0,
              "ticks": ""
             }
            },
            "type": "scattercarpet"
           }
          ],
          "scattergeo": [
           {
            "marker": {
             "colorbar": {
              "outlinewidth": 0,
              "ticks": ""
             }
            },
            "type": "scattergeo"
           }
          ],
          "scattergl": [
           {
            "marker": {
             "colorbar": {
              "outlinewidth": 0,
              "ticks": ""
             }
            },
            "type": "scattergl"
           }
          ],
          "scattermapbox": [
           {
            "marker": {
             "colorbar": {
              "outlinewidth": 0,
              "ticks": ""
             }
            },
            "type": "scattermapbox"
           }
          ],
          "scatterpolar": [
           {
            "marker": {
             "colorbar": {
              "outlinewidth": 0,
              "ticks": ""
             }
            },
            "type": "scatterpolar"
           }
          ],
          "scatterpolargl": [
           {
            "marker": {
             "colorbar": {
              "outlinewidth": 0,
              "ticks": ""
             }
            },
            "type": "scatterpolargl"
           }
          ],
          "scatterternary": [
           {
            "marker": {
             "colorbar": {
              "outlinewidth": 0,
              "ticks": ""
             }
            },
            "type": "scatterternary"
           }
          ],
          "surface": [
           {
            "colorbar": {
             "outlinewidth": 0,
             "ticks": ""
            },
            "colorscale": [
             [
              0,
              "#0d0887"
             ],
             [
              0.1111111111111111,
              "#46039f"
             ],
             [
              0.2222222222222222,
              "#7201a8"
             ],
             [
              0.3333333333333333,
              "#9c179e"
             ],
             [
              0.4444444444444444,
              "#bd3786"
             ],
             [
              0.5555555555555556,
              "#d8576b"
             ],
             [
              0.6666666666666666,
              "#ed7953"
             ],
             [
              0.7777777777777778,
              "#fb9f3a"
             ],
             [
              0.8888888888888888,
              "#fdca26"
             ],
             [
              1,
              "#f0f921"
             ]
            ],
            "type": "surface"
           }
          ],
          "table": [
           {
            "cells": {
             "fill": {
              "color": "#EBF0F8"
             },
             "line": {
              "color": "white"
             }
            },
            "header": {
             "fill": {
              "color": "#C8D4E3"
             },
             "line": {
              "color": "white"
             }
            },
            "type": "table"
           }
          ]
         },
         "layout": {
          "annotationdefaults": {
           "arrowcolor": "#2a3f5f",
           "arrowhead": 0,
           "arrowwidth": 1
          },
          "autotypenumbers": "strict",
          "coloraxis": {
           "colorbar": {
            "outlinewidth": 0,
            "ticks": ""
           }
          },
          "colorscale": {
           "diverging": [
            [
             0,
             "#8e0152"
            ],
            [
             0.1,
             "#c51b7d"
            ],
            [
             0.2,
             "#de77ae"
            ],
            [
             0.3,
             "#f1b6da"
            ],
            [
             0.4,
             "#fde0ef"
            ],
            [
             0.5,
             "#f7f7f7"
            ],
            [
             0.6,
             "#e6f5d0"
            ],
            [
             0.7,
             "#b8e186"
            ],
            [
             0.8,
             "#7fbc41"
            ],
            [
             0.9,
             "#4d9221"
            ],
            [
             1,
             "#276419"
            ]
           ],
           "sequential": [
            [
             0,
             "#0d0887"
            ],
            [
             0.1111111111111111,
             "#46039f"
            ],
            [
             0.2222222222222222,
             "#7201a8"
            ],
            [
             0.3333333333333333,
             "#9c179e"
            ],
            [
             0.4444444444444444,
             "#bd3786"
            ],
            [
             0.5555555555555556,
             "#d8576b"
            ],
            [
             0.6666666666666666,
             "#ed7953"
            ],
            [
             0.7777777777777778,
             "#fb9f3a"
            ],
            [
             0.8888888888888888,
             "#fdca26"
            ],
            [
             1,
             "#f0f921"
            ]
           ],
           "sequentialminus": [
            [
             0,
             "#0d0887"
            ],
            [
             0.1111111111111111,
             "#46039f"
            ],
            [
             0.2222222222222222,
             "#7201a8"
            ],
            [
             0.3333333333333333,
             "#9c179e"
            ],
            [
             0.4444444444444444,
             "#bd3786"
            ],
            [
             0.5555555555555556,
             "#d8576b"
            ],
            [
             0.6666666666666666,
             "#ed7953"
            ],
            [
             0.7777777777777778,
             "#fb9f3a"
            ],
            [
             0.8888888888888888,
             "#fdca26"
            ],
            [
             1,
             "#f0f921"
            ]
           ]
          },
          "colorway": [
           "#636efa",
           "#EF553B",
           "#00cc96",
           "#ab63fa",
           "#FFA15A",
           "#19d3f3",
           "#FF6692",
           "#B6E880",
           "#FF97FF",
           "#FECB52"
          ],
          "font": {
           "color": "#2a3f5f"
          },
          "geo": {
           "bgcolor": "white",
           "lakecolor": "white",
           "landcolor": "#E5ECF6",
           "showlakes": true,
           "showland": true,
           "subunitcolor": "white"
          },
          "hoverlabel": {
           "align": "left"
          },
          "hovermode": "closest",
          "mapbox": {
           "style": "light"
          },
          "paper_bgcolor": "white",
          "plot_bgcolor": "#E5ECF6",
          "polar": {
           "angularaxis": {
            "gridcolor": "white",
            "linecolor": "white",
            "ticks": ""
           },
           "bgcolor": "#E5ECF6",
           "radialaxis": {
            "gridcolor": "white",
            "linecolor": "white",
            "ticks": ""
           }
          },
          "scene": {
           "xaxis": {
            "backgroundcolor": "#E5ECF6",
            "gridcolor": "white",
            "gridwidth": 2,
            "linecolor": "white",
            "showbackground": true,
            "ticks": "",
            "zerolinecolor": "white"
           },
           "yaxis": {
            "backgroundcolor": "#E5ECF6",
            "gridcolor": "white",
            "gridwidth": 2,
            "linecolor": "white",
            "showbackground": true,
            "ticks": "",
            "zerolinecolor": "white"
           },
           "zaxis": {
            "backgroundcolor": "#E5ECF6",
            "gridcolor": "white",
            "gridwidth": 2,
            "linecolor": "white",
            "showbackground": true,
            "ticks": "",
            "zerolinecolor": "white"
           }
          },
          "shapedefaults": {
           "line": {
            "color": "#2a3f5f"
           }
          },
          "ternary": {
           "aaxis": {
            "gridcolor": "white",
            "linecolor": "white",
            "ticks": ""
           },
           "baxis": {
            "gridcolor": "white",
            "linecolor": "white",
            "ticks": ""
           },
           "bgcolor": "#E5ECF6",
           "caxis": {
            "gridcolor": "white",
            "linecolor": "white",
            "ticks": ""
           }
          },
          "title": {
           "x": 0.05
          },
          "xaxis": {
           "automargin": true,
           "gridcolor": "white",
           "linecolor": "white",
           "ticks": "",
           "title": {
            "standoff": 15
           },
           "zerolinecolor": "white",
           "zerolinewidth": 2
          },
          "yaxis": {
           "automargin": true,
           "gridcolor": "white",
           "linecolor": "white",
           "ticks": "",
           "title": {
            "standoff": 15
           },
           "zerolinecolor": "white",
           "zerolinewidth": 2
          }
         }
        },
        "title": {
         "text": "Evolution of the main mental health issues over the years"
        },
        "xaxis": {
         "anchor": "y",
         "domain": [
          0,
          1
         ],
         "dtick": "M1",
         "matches": "x6",
         "showticklabels": false,
         "tickformat": "%Y",
         "ticklabelmode": "period"
        },
        "xaxis2": {
         "anchor": "y2",
         "domain": [
          0,
          1
         ],
         "dtick": "M1",
         "matches": "x6",
         "showticklabels": false,
         "tickformat": "%Y",
         "ticklabelmode": "period"
        },
        "xaxis3": {
         "anchor": "y3",
         "domain": [
          0,
          1
         ],
         "dtick": "M1",
         "matches": "x6",
         "showticklabels": false,
         "tickformat": "%Y",
         "ticklabelmode": "period"
        },
        "xaxis4": {
         "anchor": "y4",
         "domain": [
          0,
          1
         ],
         "dtick": "M1",
         "matches": "x6",
         "showticklabels": false,
         "tickformat": "%Y",
         "ticklabelmode": "period"
        },
        "xaxis5": {
         "anchor": "y5",
         "domain": [
          0,
          1
         ],
         "dtick": "M1",
         "matches": "x6",
         "showticklabels": false,
         "tickformat": "%Y",
         "ticklabelmode": "period"
        },
        "xaxis6": {
         "anchor": "y6",
         "domain": [
          0,
          1
         ],
         "dtick": "M1",
         "tickformat": "%Y",
         "ticklabelmode": "period"
        },
        "yaxis": {
         "anchor": "x",
         "domain": [
          0.85,
          1
         ],
         "dtick": 0.001,
         "showgrid": false,
         "tickmode": "linear"
        },
        "yaxis2": {
         "anchor": "x2",
         "domain": [
          0.6799999999999999,
          0.83
         ],
         "dtick": 0.02,
         "showgrid": false,
         "tickmode": "linear"
        },
        "yaxis3": {
         "anchor": "x3",
         "domain": [
          0.51,
          0.66
         ],
         "dtick": 0.01,
         "showgrid": false,
         "tickmode": "linear"
        },
        "yaxis4": {
         "anchor": "x4",
         "domain": [
          0.33999999999999997,
          0.49
         ],
         "dtick": 0.01,
         "showgrid": false,
         "tickmode": "linear"
        },
        "yaxis5": {
         "anchor": "x5",
         "domain": [
          0.16999999999999998,
          0.31999999999999995
         ],
         "dtick": 0.1,
         "showgrid": false,
         "tickmode": "linear"
        },
        "yaxis6": {
         "anchor": "x6",
         "domain": [
          0,
          0.15
         ],
         "dtick": 0.02,
         "showgrid": false,
         "tickmode": "linear"
        }
       }
      }
     },
     "metadata": {},
     "output_type": "display_data"
    },
    {
     "name": "stdout",
     "output_type": "stream",
     "text": [
      "===============================================\n",
      "PROJETO DE PROGRAMAÇÃO E ALGORITMOS EM CIÊNCIAS\n",
      "\n",
      "Pedro Venâncio, nº88226\n",
      "Mestrado em Bioinformática Clínica\n",
      "\n",
      "========\n",
      "Gráficos\n",
      "========\n",
      "[1] - Mapa do mundo com estatísticas para a depressão ao longo do tempo\n",
      "[2] - Gráfico da relação da Taxa de Depressão com a Taxa de Suicídio no mundo\n",
      "[3] - Gráfico de barras com a prevalência de depressão em homens e mulheres\n",
      "[4] - Gráfico de linhas com a evolução dos principais problemas de saúde mental ao longo dos anos\n",
      "[5] - Voltar/Sair\n",
      "===============================================\n",
      "PROJETO DE PROGRAMAÇÃO E ALGORITMOS EM CIÊNCIAS\n",
      "\n",
      "Pedro Venâncio, nº88226\n",
      "Mestrado em Bioinformática Clínica\n",
      "\n",
      "=============================================\n",
      "Tendências globais em matéria de saúde mental\n",
      "=============================================\n",
      "[1] - Gráficos\n",
      "[2] - Tabelas\n",
      "[3] - Voltar/Sair\n"
     ]
    }
   ],
   "source": [
    "def main():\n",
    "    # Lista de opções para o menu principal, cada opção é um tuplo contendo o nome da categoria e a função associada\n",
    "    opcoes = [\n",
    "        (\"Gráficos\", graficos),\n",
    "        (\"Tabelas\", tabelas),\n",
    "    ]\n",
    "\n",
    "    # Chama a função do menu principal e passa o título 'Tendências globais em matéria de saúde mental' e a lista de opções\n",
    "    return menu('Tendências globais em matéria de saúde mental', opcoes)\n",
    "\n",
    "# Inicia a execução do programa chamando a função main()\n",
    "main()\n"
   ]
  },
  {
   "cell_type": "markdown",
   "metadata": {},
   "source": [
    "### 3. Conclusão "
   ]
  }
 ],
 "metadata": {
  "kernelspec": {
   "display_name": "ds",
   "language": "python",
   "name": "python3"
  },
  "language_info": {
   "codemirror_mode": {
    "name": "ipython",
    "version": 3
   },
   "file_extension": ".py",
   "mimetype": "text/x-python",
   "name": "python",
   "nbconvert_exporter": "python",
   "pygments_lexer": "ipython3",
   "version": "3.10.12"
  }
 },
 "nbformat": 4,
 "nbformat_minor": 2
}
